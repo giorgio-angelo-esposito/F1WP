{
  "nbformat": 4,
  "nbformat_minor": 0,
  "metadata": {
    "colab": {
      "name": "F1WP.ipynb",
      "provenance": [],
      "collapsed_sections": []
    },
    "kernelspec": {
      "name": "python3",
      "display_name": "Python 3"
    },
    "language_info": {
      "name": "python"
    }
  },
  "cells": [
    {
      "cell_type": "markdown",
      "source": [
        "## Import delle librerie"
      ],
      "metadata": {
        "id": "746tSbIRL86_"
      }
    },
    {
      "cell_type": "code",
      "execution_count": null,
      "metadata": {
        "id": "wUv_fjTQCR6V"
      },
      "outputs": [],
      "source": [
        "#import delle librerie utili\n",
        "import pandas as pd\n",
        "import numpy as np\n",
        "from matplotlib import pyplot as plt"
      ]
    },
    {
      "cell_type": "markdown",
      "source": [
        "## Import del dataset"
      ],
      "metadata": {
        "id": "M_hyUT0rMICw"
      }
    },
    {
      "cell_type": "code",
      "source": [
        "from google.colab import files \n",
        "file = files.upload() #il metodo upload() permette di caricare file in Colab\n",
        "#i vari file .csv sono disponibili nel repository di GitHub "
      ],
      "metadata": {
        "colab": {
          "resources": {
            "http://localhost:8080/nbextensions/google.colab/files.js": {
              "data": "Ly8gQ29weXJpZ2h0IDIwMTcgR29vZ2xlIExMQwovLwovLyBMaWNlbnNlZCB1bmRlciB0aGUgQXBhY2hlIExpY2Vuc2UsIFZlcnNpb24gMi4wICh0aGUgIkxpY2Vuc2UiKTsKLy8geW91IG1heSBub3QgdXNlIHRoaXMgZmlsZSBleGNlcHQgaW4gY29tcGxpYW5jZSB3aXRoIHRoZSBMaWNlbnNlLgovLyBZb3UgbWF5IG9idGFpbiBhIGNvcHkgb2YgdGhlIExpY2Vuc2UgYXQKLy8KLy8gICAgICBodHRwOi8vd3d3LmFwYWNoZS5vcmcvbGljZW5zZXMvTElDRU5TRS0yLjAKLy8KLy8gVW5sZXNzIHJlcXVpcmVkIGJ5IGFwcGxpY2FibGUgbGF3IG9yIGFncmVlZCB0byBpbiB3cml0aW5nLCBzb2Z0d2FyZQovLyBkaXN0cmlidXRlZCB1bmRlciB0aGUgTGljZW5zZSBpcyBkaXN0cmlidXRlZCBvbiBhbiAiQVMgSVMiIEJBU0lTLAovLyBXSVRIT1VUIFdBUlJBTlRJRVMgT1IgQ09ORElUSU9OUyBPRiBBTlkgS0lORCwgZWl0aGVyIGV4cHJlc3Mgb3IgaW1wbGllZC4KLy8gU2VlIHRoZSBMaWNlbnNlIGZvciB0aGUgc3BlY2lmaWMgbGFuZ3VhZ2UgZ292ZXJuaW5nIHBlcm1pc3Npb25zIGFuZAovLyBsaW1pdGF0aW9ucyB1bmRlciB0aGUgTGljZW5zZS4KCi8qKgogKiBAZmlsZW92ZXJ2aWV3IEhlbHBlcnMgZm9yIGdvb2dsZS5jb2xhYiBQeXRob24gbW9kdWxlLgogKi8KKGZ1bmN0aW9uKHNjb3BlKSB7CmZ1bmN0aW9uIHNwYW4odGV4dCwgc3R5bGVBdHRyaWJ1dGVzID0ge30pIHsKICBjb25zdCBlbGVtZW50ID0gZG9jdW1lbnQuY3JlYXRlRWxlbWVudCgnc3BhbicpOwogIGVsZW1lbnQudGV4dENvbnRlbnQgPSB0ZXh0OwogIGZvciAoY29uc3Qga2V5IG9mIE9iamVjdC5rZXlzKHN0eWxlQXR0cmlidXRlcykpIHsKICAgIGVsZW1lbnQuc3R5bGVba2V5XSA9IHN0eWxlQXR0cmlidXRlc1trZXldOwogIH0KICByZXR1cm4gZWxlbWVudDsKfQoKLy8gTWF4IG51bWJlciBvZiBieXRlcyB3aGljaCB3aWxsIGJlIHVwbG9hZGVkIGF0IGEgdGltZS4KY29uc3QgTUFYX1BBWUxPQURfU0laRSA9IDEwMCAqIDEwMjQ7CgpmdW5jdGlvbiBfdXBsb2FkRmlsZXMoaW5wdXRJZCwgb3V0cHV0SWQpIHsKICBjb25zdCBzdGVwcyA9IHVwbG9hZEZpbGVzU3RlcChpbnB1dElkLCBvdXRwdXRJZCk7CiAgY29uc3Qgb3V0cHV0RWxlbWVudCA9IGRvY3VtZW50LmdldEVsZW1lbnRCeUlkKG91dHB1dElkKTsKICAvLyBDYWNoZSBzdGVwcyBvbiB0aGUgb3V0cHV0RWxlbWVudCB0byBtYWtlIGl0IGF2YWlsYWJsZSBmb3IgdGhlIG5leHQgY2FsbAogIC8vIHRvIHVwbG9hZEZpbGVzQ29udGludWUgZnJvbSBQeXRob24uCiAgb3V0cHV0RWxlbWVudC5zdGVwcyA9IHN0ZXBzOwoKICByZXR1cm4gX3VwbG9hZEZpbGVzQ29udGludWUob3V0cHV0SWQpOwp9CgovLyBUaGlzIGlzIHJvdWdobHkgYW4gYXN5bmMgZ2VuZXJhdG9yIChub3Qgc3VwcG9ydGVkIGluIHRoZSBicm93c2VyIHlldCksCi8vIHdoZXJlIHRoZXJlIGFyZSBtdWx0aXBsZSBhc3luY2hyb25vdXMgc3RlcHMgYW5kIHRoZSBQeXRob24gc2lkZSBpcyBnb2luZwovLyB0byBwb2xsIGZvciBjb21wbGV0aW9uIG9mIGVhY2ggc3RlcC4KLy8gVGhpcyB1c2VzIGEgUHJvbWlzZSB0byBibG9jayB0aGUgcHl0aG9uIHNpZGUgb24gY29tcGxldGlvbiBvZiBlYWNoIHN0ZXAsCi8vIHRoZW4gcGFzc2VzIHRoZSByZXN1bHQgb2YgdGhlIHByZXZpb3VzIHN0ZXAgYXMgdGhlIGlucHV0IHRvIHRoZSBuZXh0IHN0ZXAuCmZ1bmN0aW9uIF91cGxvYWRGaWxlc0NvbnRpbnVlKG91dHB1dElkKSB7CiAgY29uc3Qgb3V0cHV0RWxlbWVudCA9IGRvY3VtZW50LmdldEVsZW1lbnRCeUlkKG91dHB1dElkKTsKICBjb25zdCBzdGVwcyA9IG91dHB1dEVsZW1lbnQuc3RlcHM7CgogIGNvbnN0IG5leHQgPSBzdGVwcy5uZXh0KG91dHB1dEVsZW1lbnQubGFzdFByb21pc2VWYWx1ZSk7CiAgcmV0dXJuIFByb21pc2UucmVzb2x2ZShuZXh0LnZhbHVlLnByb21pc2UpLnRoZW4oKHZhbHVlKSA9PiB7CiAgICAvLyBDYWNoZSB0aGUgbGFzdCBwcm9taXNlIHZhbHVlIHRvIG1ha2UgaXQgYXZhaWxhYmxlIHRvIHRoZSBuZXh0CiAgICAvLyBzdGVwIG9mIHRoZSBnZW5lcmF0b3IuCiAgICBvdXRwdXRFbGVtZW50Lmxhc3RQcm9taXNlVmFsdWUgPSB2YWx1ZTsKICAgIHJldHVybiBuZXh0LnZhbHVlLnJlc3BvbnNlOwogIH0pOwp9CgovKioKICogR2VuZXJhdG9yIGZ1bmN0aW9uIHdoaWNoIGlzIGNhbGxlZCBiZXR3ZWVuIGVhY2ggYXN5bmMgc3RlcCBvZiB0aGUgdXBsb2FkCiAqIHByb2Nlc3MuCiAqIEBwYXJhbSB7c3RyaW5nfSBpbnB1dElkIEVsZW1lbnQgSUQgb2YgdGhlIGlucHV0IGZpbGUgcGlja2VyIGVsZW1lbnQuCiAqIEBwYXJhbSB7c3RyaW5nfSBvdXRwdXRJZCBFbGVtZW50IElEIG9mIHRoZSBvdXRwdXQgZGlzcGxheS4KICogQHJldHVybiB7IUl0ZXJhYmxlPCFPYmplY3Q+fSBJdGVyYWJsZSBvZiBuZXh0IHN0ZXBzLgogKi8KZnVuY3Rpb24qIHVwbG9hZEZpbGVzU3RlcChpbnB1dElkLCBvdXRwdXRJZCkgewogIGNvbnN0IGlucHV0RWxlbWVudCA9IGRvY3VtZW50LmdldEVsZW1lbnRCeUlkKGlucHV0SWQpOwogIGlucHV0RWxlbWVudC5kaXNhYmxlZCA9IGZhbHNlOwoKICBjb25zdCBvdXRwdXRFbGVtZW50ID0gZG9jdW1lbnQuZ2V0RWxlbWVudEJ5SWQob3V0cHV0SWQpOwogIG91dHB1dEVsZW1lbnQuaW5uZXJIVE1MID0gJyc7CgogIGNvbnN0IHBpY2tlZFByb21pc2UgPSBuZXcgUHJvbWlzZSgocmVzb2x2ZSkgPT4gewogICAgaW5wdXRFbGVtZW50LmFkZEV2ZW50TGlzdGVuZXIoJ2NoYW5nZScsIChlKSA9PiB7CiAgICAgIHJlc29sdmUoZS50YXJnZXQuZmlsZXMpOwogICAgfSk7CiAgfSk7CgogIGNvbnN0IGNhbmNlbCA9IGRvY3VtZW50LmNyZWF0ZUVsZW1lbnQoJ2J1dHRvbicpOwogIGlucHV0RWxlbWVudC5wYXJlbnRFbGVtZW50LmFwcGVuZENoaWxkKGNhbmNlbCk7CiAgY2FuY2VsLnRleHRDb250ZW50ID0gJ0NhbmNlbCB1cGxvYWQnOwogIGNvbnN0IGNhbmNlbFByb21pc2UgPSBuZXcgUHJvbWlzZSgocmVzb2x2ZSkgPT4gewogICAgY2FuY2VsLm9uY2xpY2sgPSAoKSA9PiB7CiAgICAgIHJlc29sdmUobnVsbCk7CiAgICB9OwogIH0pOwoKICAvLyBXYWl0IGZvciB0aGUgdXNlciB0byBwaWNrIHRoZSBmaWxlcy4KICBjb25zdCBmaWxlcyA9IHlpZWxkIHsKICAgIHByb21pc2U6IFByb21pc2UucmFjZShbcGlja2VkUHJvbWlzZSwgY2FuY2VsUHJvbWlzZV0pLAogICAgcmVzcG9uc2U6IHsKICAgICAgYWN0aW9uOiAnc3RhcnRpbmcnLAogICAgfQogIH07CgogIGNhbmNlbC5yZW1vdmUoKTsKCiAgLy8gRGlzYWJsZSB0aGUgaW5wdXQgZWxlbWVudCBzaW5jZSBmdXJ0aGVyIHBpY2tzIGFyZSBub3QgYWxsb3dlZC4KICBpbnB1dEVsZW1lbnQuZGlzYWJsZWQgPSB0cnVlOwoKICBpZiAoIWZpbGVzKSB7CiAgICByZXR1cm4gewogICAgICByZXNwb25zZTogewogICAgICAgIGFjdGlvbjogJ2NvbXBsZXRlJywKICAgICAgfQogICAgfTsKICB9CgogIGZvciAoY29uc3QgZmlsZSBvZiBmaWxlcykgewogICAgY29uc3QgbGkgPSBkb2N1bWVudC5jcmVhdGVFbGVtZW50KCdsaScpOwogICAgbGkuYXBwZW5kKHNwYW4oZmlsZS5uYW1lLCB7Zm9udFdlaWdodDogJ2JvbGQnfSkpOwogICAgbGkuYXBwZW5kKHNwYW4oCiAgICAgICAgYCgke2ZpbGUudHlwZSB8fCAnbi9hJ30pIC0gJHtmaWxlLnNpemV9IGJ5dGVzLCBgICsKICAgICAgICBgbGFzdCBtb2RpZmllZDogJHsKICAgICAgICAgICAgZmlsZS5sYXN0TW9kaWZpZWREYXRlID8gZmlsZS5sYXN0TW9kaWZpZWREYXRlLnRvTG9jYWxlRGF0ZVN0cmluZygpIDoKICAgICAgICAgICAgICAgICAgICAgICAgICAgICAgICAgICAgJ24vYSd9IC0gYCkpOwogICAgY29uc3QgcGVyY2VudCA9IHNwYW4oJzAlIGRvbmUnKTsKICAgIGxpLmFwcGVuZENoaWxkKHBlcmNlbnQpOwoKICAgIG91dHB1dEVsZW1lbnQuYXBwZW5kQ2hpbGQobGkpOwoKICAgIGNvbnN0IGZpbGVEYXRhUHJvbWlzZSA9IG5ldyBQcm9taXNlKChyZXNvbHZlKSA9PiB7CiAgICAgIGNvbnN0IHJlYWRlciA9IG5ldyBGaWxlUmVhZGVyKCk7CiAgICAgIHJlYWRlci5vbmxvYWQgPSAoZSkgPT4gewogICAgICAgIHJlc29sdmUoZS50YXJnZXQucmVzdWx0KTsKICAgICAgfTsKICAgICAgcmVhZGVyLnJlYWRBc0FycmF5QnVmZmVyKGZpbGUpOwogICAgfSk7CiAgICAvLyBXYWl0IGZvciB0aGUgZGF0YSB0byBiZSByZWFkeS4KICAgIGxldCBmaWxlRGF0YSA9IHlpZWxkIHsKICAgICAgcHJvbWlzZTogZmlsZURhdGFQcm9taXNlLAogICAgICByZXNwb25zZTogewogICAgICAgIGFjdGlvbjogJ2NvbnRpbnVlJywKICAgICAgfQogICAgfTsKCiAgICAvLyBVc2UgYSBjaHVua2VkIHNlbmRpbmcgdG8gYXZvaWQgbWVzc2FnZSBzaXplIGxpbWl0cy4gU2VlIGIvNjIxMTU2NjAuCiAgICBsZXQgcG9zaXRpb24gPSAwOwogICAgZG8gewogICAgICBjb25zdCBsZW5ndGggPSBNYXRoLm1pbihmaWxlRGF0YS5ieXRlTGVuZ3RoIC0gcG9zaXRpb24sIE1BWF9QQVlMT0FEX1NJWkUpOwogICAgICBjb25zdCBjaHVuayA9IG5ldyBVaW50OEFycmF5KGZpbGVEYXRhLCBwb3NpdGlvbiwgbGVuZ3RoKTsKICAgICAgcG9zaXRpb24gKz0gbGVuZ3RoOwoKICAgICAgY29uc3QgYmFzZTY0ID0gYnRvYShTdHJpbmcuZnJvbUNoYXJDb2RlLmFwcGx5KG51bGwsIGNodW5rKSk7CiAgICAgIHlpZWxkIHsKICAgICAgICByZXNwb25zZTogewogICAgICAgICAgYWN0aW9uOiAnYXBwZW5kJywKICAgICAgICAgIGZpbGU6IGZpbGUubmFtZSwKICAgICAgICAgIGRhdGE6IGJhc2U2NCwKICAgICAgICB9LAogICAgICB9OwoKICAgICAgbGV0IHBlcmNlbnREb25lID0gZmlsZURhdGEuYnl0ZUxlbmd0aCA9PT0gMCA/CiAgICAgICAgICAxMDAgOgogICAgICAgICAgTWF0aC5yb3VuZCgocG9zaXRpb24gLyBmaWxlRGF0YS5ieXRlTGVuZ3RoKSAqIDEwMCk7CiAgICAgIHBlcmNlbnQudGV4dENvbnRlbnQgPSBgJHtwZXJjZW50RG9uZX0lIGRvbmVgOwoKICAgIH0gd2hpbGUgKHBvc2l0aW9uIDwgZmlsZURhdGEuYnl0ZUxlbmd0aCk7CiAgfQoKICAvLyBBbGwgZG9uZS4KICB5aWVsZCB7CiAgICByZXNwb25zZTogewogICAgICBhY3Rpb246ICdjb21wbGV0ZScsCiAgICB9CiAgfTsKfQoKc2NvcGUuZ29vZ2xlID0gc2NvcGUuZ29vZ2xlIHx8IHt9OwpzY29wZS5nb29nbGUuY29sYWIgPSBzY29wZS5nb29nbGUuY29sYWIgfHwge307CnNjb3BlLmdvb2dsZS5jb2xhYi5fZmlsZXMgPSB7CiAgX3VwbG9hZEZpbGVzLAogIF91cGxvYWRGaWxlc0NvbnRpbnVlLAp9Owp9KShzZWxmKTsK",
              "ok": true,
              "headers": [
                [
                  "content-type",
                  "application/javascript"
                ]
              ],
              "status": 200,
              "status_text": "OK"
            }
          },
          "base_uri": "https://localhost:8080/",
          "height": 504
        },
        "id": "rd6b9rXoO3py",
        "outputId": "c47da0f7-2308-4212-8814-fda3c722c228"
      },
      "execution_count": null,
      "outputs": [
        {
          "output_type": "display_data",
          "data": {
            "text/html": [
              "\n",
              "     <input type=\"file\" id=\"files-be66143f-46be-46ce-bba9-535df9294c2e\" name=\"files[]\" multiple disabled\n",
              "        style=\"border:none\" />\n",
              "     <output id=\"result-be66143f-46be-46ce-bba9-535df9294c2e\">\n",
              "      Upload widget is only available when the cell has been executed in the\n",
              "      current browser session. Please rerun this cell to enable.\n",
              "      </output>\n",
              "      <script src=\"/nbextensions/google.colab/files.js\"></script> "
            ],
            "text/plain": [
              "<IPython.core.display.HTML object>"
            ]
          },
          "metadata": {}
        },
        {
          "output_type": "stream",
          "name": "stdout",
          "text": [
            "Saving circuits.csv to circuits.csv\n",
            "Saving constructor_results.csv to constructor_results.csv\n",
            "Saving constructor_standings.csv to constructor_standings.csv\n",
            "Saving constructors.csv to constructors.csv\n",
            "Saving driver_standings.csv to driver_standings.csv\n",
            "Saving drivers.csv to drivers.csv\n",
            "Saving lap_times.csv to lap_times.csv\n",
            "Saving pit_stops.csv to pit_stops.csv\n",
            "Saving qualifying.csv to qualifying.csv\n",
            "Saving races.csv to races.csv\n",
            "Saving results.csv to results.csv\n",
            "Saving seasons.csv to seasons.csv\n",
            "Saving status.csv to status.csv\n"
          ]
        }
      ]
    },
    {
      "cell_type": "markdown",
      "source": [
        "# **Lettura file**"
      ],
      "metadata": {
        "id": "2WFP-VD9YjJD"
      }
    },
    {
      "cell_type": "code",
      "source": [
        "circuits = pd.read_csv(\"circuits.csv\")\n",
        "constructor_results = pd.read_csv(\"constructor_results.csv\")\n",
        "constructor_standings = pd.read_csv(\"constructor_standings.csv\")\n",
        "constructors = pd.read_csv(\"constructors.csv\")\n",
        "driver_standings = pd.read_csv(\"driver_standings.csv\")\n",
        "drivers = pd.read_csv(\"drivers.csv\")\n",
        "lap_times = pd.read_csv(\"lap_times.csv\")\n",
        "pit_stops = pd.read_csv(\"pit_stops.csv\")\n",
        "qualifying = pd.read_csv(\"qualifying.csv\")\n",
        "races = pd.read_csv(\"races.csv\")\n",
        "results = pd.read_csv(\"results.csv\")\n",
        "seasons = pd.read_csv(\"seasons.csv\")\n",
        "status = pd.read_csv(\"status.csv\")"
      ],
      "metadata": {
        "id": "O1V5za8XQX63"
      },
      "execution_count": null,
      "outputs": []
    },
    {
      "cell_type": "markdown",
      "source": [
        "# **Tabella results**"
      ],
      "metadata": {
        "id": "EyF-c6qsoImv"
      }
    },
    {
      "cell_type": "markdown",
      "source": [
        "# Analisi dei dati"
      ],
      "metadata": {
        "id": "LH28PNsNQEzd"
      }
    },
    {
      "cell_type": "code",
      "source": [
        "#visualizzazione dei dati\n",
        "print(results)\n",
        "\n",
        "#visualizzazione colonne\n",
        "print(results.columns)\n",
        "\n",
        "#conteggio dei dati\n",
        "results.count()"
      ],
      "metadata": {
        "colab": {
          "base_uri": "https://localhost:8080/"
        },
        "id": "5L-TY0BaTcYh",
        "outputId": "8f94264a-d054-4af1-da3e-cbcc7f8dbf79"
      },
      "execution_count": null,
      "outputs": [
        {
          "output_type": "stream",
          "name": "stdout",
          "text": [
            "       resultId  raceId  driverId  ...  fastestLapTime fastestLapSpeed  statusId\n",
            "0             1      18         1  ...        1:27.452         218.300         1\n",
            "1             2      18         2  ...        1:27.739         217.586         1\n",
            "2             3      18         3  ...        1:28.090         216.719         1\n",
            "3             4      18         4  ...        1:28.603         215.464         1\n",
            "4             5      18         5  ...        1:27.418         218.385         1\n",
            "...         ...     ...       ...  ...             ...             ...       ...\n",
            "25394     25400    1073       815  ...        1:26.419         219.993         5\n",
            "25395     25401    1073       849  ...        1:29.293         212.912         3\n",
            "25396     25402    1073       841  ...        1:29.442         212.557         6\n",
            "25397     25403    1073       847  ...        1:30.647         209.732         6\n",
            "25398     25404    1073         8  ...        1:29.698         211.951        23\n",
            "\n",
            "[25399 rows x 18 columns]\n",
            "Index(['resultId', 'raceId', 'driverId', 'constructorId', 'number', 'grid',\n",
            "       'position', 'positionText', 'positionOrder', 'points', 'laps', 'time',\n",
            "       'milliseconds', 'fastestLap', 'rank', 'fastestLapTime',\n",
            "       'fastestLapSpeed', 'statusId'],\n",
            "      dtype='object')\n"
          ]
        },
        {
          "output_type": "execute_result",
          "data": {
            "text/plain": [
              "resultId           25399\n",
              "raceId             25399\n",
              "driverId           25399\n",
              "constructorId      25399\n",
              "number             25399\n",
              "grid               25399\n",
              "position           25399\n",
              "positionText       25399\n",
              "positionOrder      25399\n",
              "points             25399\n",
              "laps               25399\n",
              "time               25399\n",
              "milliseconds       25399\n",
              "fastestLap         25399\n",
              "rank               25399\n",
              "fastestLapTime     25399\n",
              "fastestLapSpeed    25399\n",
              "statusId           25399\n",
              "dtype: int64"
            ]
          },
          "metadata": {},
          "execution_count": 5
        }
      ]
    },
    {
      "cell_type": "markdown",
      "source": [
        "# Relazioni tra i dati"
      ],
      "metadata": {
        "id": "3QNFsr9hUkdk"
      }
    },
    {
      "cell_type": "code",
      "source": [
        "#otteniamo il numero di piloti che hanno vinto partendo dalla prima posizione\n",
        "winner_from_pole = results.loc[(results['grid'] == 1) & (results['positionOrder'] == 1)].count()[0]\n",
        "print(winner_from_pole)\n",
        "\n",
        "#otteniamo il numero di piloti che hanno vinto partendo da una posizione diversa dalla prima\n",
        "winner_not_from_pole = results.loc[(results['grid'] != 1) & (results['positionOrder'] == 1)].count()[0]\n",
        "print(winner_not_from_pole)\n",
        "\n",
        "#creaimo un pie chart con questi valori\n",
        "labels = ['Vittorie dalla pole position','Vittorie NON dalla pole position'] #label da utilizzare \n",
        "\n",
        "plt.figure(figsize=(7,7)) #dimensioni del grafico\n",
        "plt.style.use('ggplot') #stile del grafico\n",
        "plt.pie([winner_from_pole,winner_not_from_pole],labels=labels,autopct= '%.2f %%') #creazione del grafico\n",
        "plt.title('Confrontro tra la percentuale di vittorie dalla pole e non dalla pole') #titolo del grafico\n",
        "plt.savefig('Starting_position',dpi = 300) #salviamo il grafico\n",
        "plt.show() #mostriamo il grafico\n",
        "\n",
        "#uniamo i dataset results e races per ottenere l'anno in cui si sono svolte le gare\n",
        "results_and_races = pd.merge(results, races, on='raceId')\n",
        "results_and_races.count()\n",
        "\n",
        "#otteniamo il numero di piloti che hanno vinto partendo dalla prima posizione dal 2014 al 2021\n",
        "winner_from_pole_from_2014 = results_and_races.loc[(results_and_races['grid'] == 1) & (results_and_races['positionOrder'] == 1) & (results_and_races['year'] >= 2014)].count()[0]\n",
        "print(winner_from_pole_from_2014)\n",
        "\n",
        "#otteniamo il numero di piloti che hanno vinto partendo da una posizione diversa dalla prima dal 2014 al 2021\n",
        "winner_not_from_pole_from_2014 = results_and_races.loc[(results_and_races['grid'] != 1) & (results_and_races['positionOrder'] == 1) & (results_and_races['year'] >= 2014)].count()[0]\n",
        "print(winner_not_from_pole_from_2014)\n",
        "\n",
        "#creaimo un pie chart con questi valori\n",
        "labels = ['Vittorie dalla pole position','Vittorie NON dalla pole position'] #label da utilizzare \n",
        "\n",
        "plt.figure(figsize=(7,7)) #dimensioni del grafico\n",
        "plt.style.use('ggplot') #stile del grafico\n",
        "plt.pie([winner_from_pole_from_2014,winner_not_from_pole_from_2014],labels=labels,autopct= '%.2f %%') #creazione del grafico\n",
        "plt.title('Confrontro tra la percentuale di vittorie dalla pole e non dalla pole 2014-2021') #titolo del grafico\n",
        "plt.savefig('Starting_position_from_2014',dpi = 300) #salviamo il grafico\n",
        "plt.show() #mostriamo il grafico"
      ],
      "metadata": {
        "colab": {
          "base_uri": "https://localhost:8080/",
          "height": 912
        },
        "id": "DZ03Eg7qoRQW",
        "outputId": "6ee6f036-bf01-4b53-c9c7-9a0cc9f8abd4"
      },
      "execution_count": 132,
      "outputs": [
        {
          "output_type": "stream",
          "name": "stdout",
          "text": [
            "446\n",
            "614\n"
          ]
        },
        {
          "output_type": "display_data",
          "data": {
            "image/png": "[encoded data removed]",
            "text/plain": [
              "<Figure size 504x504 with 1 Axes>"
            ]
          },
          "metadata": {}
        },
        {
          "output_type": "stream",
          "name": "stdout",
          "text": [
            "84\n",
            "76\n"
          ]
        },
        {
          "output_type": "display_data",
          "data": {
            "image/png": "[encoded data removed]",
            "text/plain": [
              "<Figure size 504x504 with 1 Axes>"
            ]
          },
          "metadata": {}
        }
      ]
    },
    {
      "cell_type": "markdown",
      "source": [
        "# **Tabella races**"
      ],
      "metadata": {
        "id": "dKrbFgAGWUV9"
      }
    },
    {
      "cell_type": "markdown",
      "source": [
        "# Analisi dei dati"
      ],
      "metadata": {
        "id": "z0HHJUzhnO8i"
      }
    },
    {
      "cell_type": "code",
      "source": [
        "#visualizzazione dei dati\n",
        "print(races)\n",
        "\n",
        "#visualizziamo le colonne\n",
        "print(races.columns)\n",
        "\n",
        "#conteggio dei dati\n",
        "races.count()"
      ],
      "metadata": {
        "colab": {
          "base_uri": "https://localhost:8080/"
        },
        "id": "7reDDuFIVBgr",
        "outputId": "9cd3c228-4e6a-419b-ae61-5246e06f343b"
      },
      "execution_count": null,
      "outputs": [
        {
          "output_type": "stream",
          "name": "stdout",
          "text": [
            "      raceId  year  ...      time                                                url\n",
            "0          1  2009  ...  06:00:00  http://en.wikipedia.org/wiki/2009_Australian_G...\n",
            "1          2  2009  ...  09:00:00  http://en.wikipedia.org/wiki/2009_Malaysian_Gr...\n",
            "2          3  2009  ...  07:00:00  http://en.wikipedia.org/wiki/2009_Chinese_Gran...\n",
            "3          4  2009  ...  12:00:00  http://en.wikipedia.org/wiki/2009_Bahrain_Gran...\n",
            "4          5  2009  ...  12:00:00  http://en.wikipedia.org/wiki/2009_Spanish_Gran...\n",
            "...      ...   ...  ...       ...                                                ...\n",
            "1075    1092  2022  ...  05:10:00  https://en.wikipedia.org/wiki/2022_Japanese_Gr...\n",
            "1076    1093  2022  ...  19:00:00  https://en.wikipedia.org/wiki/2022_United_Stat...\n",
            "1077    1094  2022  ...  19:00:00  https://en.wikipedia.org/wiki/2022_Mexican_Gra...\n",
            "1078    1095  2022  ...  17:00:00  https://en.wikipedia.org/wiki/2022_S%C3%A3o_Pa...\n",
            "1079    1096  2022  ...  13:00:00  https://en.wikipedia.org/wiki/2022_Abu_Dhabi_G...\n",
            "\n",
            "[1080 rows x 8 columns]\n",
            "Index(['raceId', 'year', 'round', 'circuitId', 'name', 'date', 'time', 'url'], dtype='object')\n"
          ]
        },
        {
          "output_type": "execute_result",
          "data": {
            "text/plain": [
              "raceId       1080\n",
              "year         1080\n",
              "round        1080\n",
              "circuitId    1080\n",
              "name         1080\n",
              "date         1080\n",
              "time         1080\n",
              "url          1080\n",
              "dtype: int64"
            ]
          },
          "metadata": {},
          "execution_count": 7
        }
      ]
    },
    {
      "cell_type": "markdown",
      "source": [
        "# **Tabella qualifying**"
      ],
      "metadata": {
        "id": "9S4T1cHiYKOb"
      }
    },
    {
      "cell_type": "markdown",
      "source": [
        "# Analisi tabella"
      ],
      "metadata": {
        "id": "P7jpH4jCYN4y"
      }
    },
    {
      "cell_type": "code",
      "source": [
        "#visualizzazione dei dati\n",
        "print(qualifying)\n",
        "\n",
        "#visualizzazione colonne\n",
        "print(qualifying.columns)\n",
        "\n",
        "#conteggio dei dati\n",
        "qualifying.count()\n",
        "\n",
        "#controllo dei dati mancanti\n",
        "qualifying[qualifying.isnull().any(1)] "
      ],
      "metadata": {
        "colab": {
          "base_uri": "https://localhost:8080/",
          "height": 736
        },
        "id": "3NxQ6D1WYQcH",
        "outputId": "f90a267a-23cd-451d-cb9b-fff507069348"
      },
      "execution_count": null,
      "outputs": [
        {
          "output_type": "stream",
          "name": "stdout",
          "text": [
            "      qualifyId  raceId  driverId  ...        q1        q2        q3\n",
            "0             1      18         1  ...  1:26.572  1:25.187  1:26.714\n",
            "1             2      18         9  ...  1:26.103  1:25.315  1:26.869\n",
            "2             3      18         5  ...  1:25.664  1:25.452  1:27.079\n",
            "3             4      18        13  ...  1:25.994  1:25.691  1:27.178\n",
            "4             5      18         2  ...  1:25.960  1:25.518  1:27.236\n",
            "...         ...     ...       ...  ...       ...       ...       ...\n",
            "9130       9171    1073       849  ...  1:24.338        \\N        \\N\n",
            "9131       9172    1073       847  ...  1:24.423        \\N        \\N\n",
            "9132       9173    1073         8  ...  1:24.779        \\N        \\N\n",
            "9133       9174    1073       854  ...  1:24.906        \\N        \\N\n",
            "9134       9175    1073       853  ...  1:25.685        \\N        \\N\n",
            "\n",
            "[9135 rows x 9 columns]\n",
            "Index(['qualifyId', 'raceId', 'driverId', 'constructorId', 'number',\n",
            "       'position', 'q1', 'q2', 'q3'],\n",
            "      dtype='object')\n"
          ]
        },
        {
          "output_type": "execute_result",
          "data": {
            "text/html": [
              "\n",
              "  <div id=\"df-bcfa4bce-4806-4f06-9089-aa49297b4175\">\n",
              "    <div class=\"colab-df-container\">\n",
              "      <div>\n",
              "<style scoped>\n",
              "    .dataframe tbody tr th:only-of-type {\n",
              "        vertical-align: middle;\n",
              "    }\n",
              "\n",
              "    .dataframe tbody tr th {\n",
              "        vertical-align: top;\n",
              "    }\n",
              "\n",
              "    .dataframe thead th {\n",
              "        text-align: right;\n",
              "    }\n",
              "</style>\n",
              "<table border=\"1\" class=\"dataframe\">\n",
              "  <thead>\n",
              "    <tr style=\"text-align: right;\">\n",
              "      <th></th>\n",
              "      <th>qualifyId</th>\n",
              "      <th>raceId</th>\n",
              "      <th>driverId</th>\n",
              "      <th>constructorId</th>\n",
              "      <th>number</th>\n",
              "      <th>position</th>\n",
              "      <th>q1</th>\n",
              "      <th>q2</th>\n",
              "      <th>q3</th>\n",
              "    </tr>\n",
              "  </thead>\n",
              "  <tbody>\n",
              "    <tr>\n",
              "      <th>3880</th>\n",
              "      <td>3882</td>\n",
              "      <td>114</td>\n",
              "      <td>23</td>\n",
              "      <td>3</td>\n",
              "      <td>4</td>\n",
              "      <td>1</td>\n",
              "      <td>1:15.259</td>\n",
              "      <td>NaN</td>\n",
              "      <td>NaN</td>\n",
              "    </tr>\n",
              "    <tr>\n",
              "      <th>3881</th>\n",
              "      <td>3883</td>\n",
              "      <td>114</td>\n",
              "      <td>8</td>\n",
              "      <td>1</td>\n",
              "      <td>6</td>\n",
              "      <td>2</td>\n",
              "      <td>1:15.295</td>\n",
              "      <td>NaN</td>\n",
              "      <td>NaN</td>\n",
              "    </tr>\n",
              "    <tr>\n",
              "      <th>3882</th>\n",
              "      <td>3884</td>\n",
              "      <td>114</td>\n",
              "      <td>31</td>\n",
              "      <td>3</td>\n",
              "      <td>3</td>\n",
              "      <td>3</td>\n",
              "      <td>1:15.415</td>\n",
              "      <td>NaN</td>\n",
              "      <td>NaN</td>\n",
              "    </tr>\n",
              "    <tr>\n",
              "      <th>3883</th>\n",
              "      <td>3885</td>\n",
              "      <td>114</td>\n",
              "      <td>15</td>\n",
              "      <td>4</td>\n",
              "      <td>7</td>\n",
              "      <td>4</td>\n",
              "      <td>1:15.500</td>\n",
              "      <td>NaN</td>\n",
              "      <td>NaN</td>\n",
              "    </tr>\n",
              "    <tr>\n",
              "      <th>3884</th>\n",
              "      <td>3886</td>\n",
              "      <td>114</td>\n",
              "      <td>30</td>\n",
              "      <td>6</td>\n",
              "      <td>1</td>\n",
              "      <td>5</td>\n",
              "      <td>1:15.644</td>\n",
              "      <td>NaN</td>\n",
              "      <td>NaN</td>\n",
              "    </tr>\n",
              "    <tr>\n",
              "      <th>...</th>\n",
              "      <td>...</td>\n",
              "      <td>...</td>\n",
              "      <td>...</td>\n",
              "      <td>...</td>\n",
              "      <td>...</td>\n",
              "      <td>...</td>\n",
              "      <td>...</td>\n",
              "      <td>...</td>\n",
              "      <td>...</td>\n",
              "    </tr>\n",
              "    <tr>\n",
              "      <th>8669</th>\n",
              "      <td>8710</td>\n",
              "      <td>1046</td>\n",
              "      <td>825</td>\n",
              "      <td>210</td>\n",
              "      <td>20</td>\n",
              "      <td>16</td>\n",
              "      <td>0:54.705</td>\n",
              "      <td>NaN</td>\n",
              "      <td>NaN</td>\n",
              "    </tr>\n",
              "    <tr>\n",
              "      <th>8670</th>\n",
              "      <td>8711</td>\n",
              "      <td>1046</td>\n",
              "      <td>849</td>\n",
              "      <td>3</td>\n",
              "      <td>6</td>\n",
              "      <td>17</td>\n",
              "      <td>0:54.796</td>\n",
              "      <td>NaN</td>\n",
              "      <td>NaN</td>\n",
              "    </tr>\n",
              "    <tr>\n",
              "      <th>8671</th>\n",
              "      <td>8712</td>\n",
              "      <td>1046</td>\n",
              "      <td>851</td>\n",
              "      <td>3</td>\n",
              "      <td>89</td>\n",
              "      <td>18</td>\n",
              "      <td>0:54.892</td>\n",
              "      <td>NaN</td>\n",
              "      <td>NaN</td>\n",
              "    </tr>\n",
              "    <tr>\n",
              "      <th>8672</th>\n",
              "      <td>8713</td>\n",
              "      <td>1046</td>\n",
              "      <td>8</td>\n",
              "      <td>51</td>\n",
              "      <td>7</td>\n",
              "      <td>19</td>\n",
              "      <td>0:54.963</td>\n",
              "      <td>NaN</td>\n",
              "      <td>NaN</td>\n",
              "    </tr>\n",
              "    <tr>\n",
              "      <th>8673</th>\n",
              "      <td>8714</td>\n",
              "      <td>1046</td>\n",
              "      <td>850</td>\n",
              "      <td>210</td>\n",
              "      <td>51</td>\n",
              "      <td>20</td>\n",
              "      <td>0:55.426</td>\n",
              "      <td>NaN</td>\n",
              "      <td>NaN</td>\n",
              "    </tr>\n",
              "  </tbody>\n",
              "</table>\n",
              "<p>255 rows × 9 columns</p>\n",
              "</div>\n",
              "      <button class=\"colab-df-convert\" onclick=\"convertToInteractive('df-bcfa4bce-4806-4f06-9089-aa49297b4175')\"\n",
              "              title=\"Convert this dataframe to an interactive table.\"\n",
              "              style=\"display:none;\">\n",
              "        \n",
              "  <svg xmlns=\"http://www.w3.org/2000/svg\" height=\"24px\"viewBox=\"0 0 24 24\"\n",
              "       width=\"24px\">\n",
              "    <path d=\"M0 0h24v24H0V0z\" fill=\"none\"/>\n",
              "    <path d=\"M18.56 5.44l.94 2.06.94-2.06 2.06-.94-2.06-.94-.94-2.06-.94 2.06-2.06.94zm-11 1L8.5 8.5l.94-2.06 2.06-.94-2.06-.94L8.5 2.5l-.94 2.06-2.06.94zm10 10l.94 2.06.94-2.06 2.06-.94-2.06-.94-.94-2.06-.94 2.06-2.06.94z\"/><path d=\"M17.41 7.96l-1.37-1.37c-.4-.4-.92-.59-1.43-.59-.52 0-1.04.2-1.43.59L10.3 9.45l-7.72 7.72c-.78.78-.78 2.05 0 2.83L4 21.41c.39.39.9.59 1.41.59.51 0 1.02-.2 1.41-.59l7.78-7.78 2.81-2.81c.8-.78.8-2.07 0-2.86zM5.41 20L4 18.59l7.72-7.72 1.47 1.35L5.41 20z\"/>\n",
              "  </svg>\n",
              "      </button>\n",
              "      \n",
              "  <style>\n",
              "    .colab-df-container {\n",
              "      display:flex;\n",
              "      flex-wrap:wrap;\n",
              "      gap: 12px;\n",
              "    }\n",
              "\n",
              "    .colab-df-convert {\n",
              "      background-color: #E8F0FE;\n",
              "      border: none;\n",
              "      border-radius: 50%;\n",
              "      cursor: pointer;\n",
              "      display: none;\n",
              "      fill: #1967D2;\n",
              "      height: 32px;\n",
              "      padding: 0 0 0 0;\n",
              "      width: 32px;\n",
              "    }\n",
              "\n",
              "    .colab-df-convert:hover {\n",
              "      background-color: #E2EBFA;\n",
              "      box-shadow: 0px 1px 2px rgba(60, 64, 67, 0.3), 0px 1px 3px 1px rgba(60, 64, 67, 0.15);\n",
              "      fill: #174EA6;\n",
              "    }\n",
              "\n",
              "    [theme=dark] .colab-df-convert {\n",
              "      background-color: #3B4455;\n",
              "      fill: #D2E3FC;\n",
              "    }\n",
              "\n",
              "    [theme=dark] .colab-df-convert:hover {\n",
              "      background-color: #434B5C;\n",
              "      box-shadow: 0px 1px 3px 1px rgba(0, 0, 0, 0.15);\n",
              "      filter: drop-shadow(0px 1px 2px rgba(0, 0, 0, 0.3));\n",
              "      fill: #FFFFFF;\n",
              "    }\n",
              "  </style>\n",
              "\n",
              "      <script>\n",
              "        const buttonEl =\n",
              "          document.querySelector('#df-bcfa4bce-4806-4f06-9089-aa49297b4175 button.colab-df-convert');\n",
              "        buttonEl.style.display =\n",
              "          google.colab.kernel.accessAllowed ? 'block' : 'none';\n",
              "\n",
              "        async function convertToInteractive(key) {\n",
              "          const element = document.querySelector('#df-bcfa4bce-4806-4f06-9089-aa49297b4175');\n",
              "          const dataTable =\n",
              "            await google.colab.kernel.invokeFunction('convertToInteractive',\n",
              "                                                     [key], {});\n",
              "          if (!dataTable) return;\n",
              "\n",
              "          const docLinkHtml = 'Like what you see? Visit the ' +\n",
              "            '<a target=\"_blank\" href=https://colab.research.google.com/notebooks/data_table.ipynb>data table notebook</a>'\n",
              "            + ' to learn more about interactive tables.';\n",
              "          element.innerHTML = '';\n",
              "          dataTable['output_type'] = 'display_data';\n",
              "          await google.colab.output.renderOutput(dataTable, element);\n",
              "          const docLink = document.createElement('div');\n",
              "          docLink.innerHTML = docLinkHtml;\n",
              "          element.appendChild(docLink);\n",
              "        }\n",
              "      </script>\n",
              "    </div>\n",
              "  </div>\n",
              "  "
            ],
            "text/plain": [
              "      qualifyId  raceId  driverId  constructorId  ...  position        q1   q2   q3\n",
              "3880       3882     114        23              3  ...         1  1:15.259  NaN  NaN\n",
              "3881       3883     114         8              1  ...         2  1:15.295  NaN  NaN\n",
              "3882       3884     114        31              3  ...         3  1:15.415  NaN  NaN\n",
              "3883       3885     114        15              4  ...         4  1:15.500  NaN  NaN\n",
              "3884       3886     114        30              6  ...         5  1:15.644  NaN  NaN\n",
              "...         ...     ...       ...            ...  ...       ...       ...  ...  ...\n",
              "8669       8710    1046       825            210  ...        16  0:54.705  NaN  NaN\n",
              "8670       8711    1046       849              3  ...        17  0:54.796  NaN  NaN\n",
              "8671       8712    1046       851              3  ...        18  0:54.892  NaN  NaN\n",
              "8672       8713    1046         8             51  ...        19  0:54.963  NaN  NaN\n",
              "8673       8714    1046       850            210  ...        20  0:55.426  NaN  NaN\n",
              "\n",
              "[255 rows x 9 columns]"
            ]
          },
          "metadata": {},
          "execution_count": 8
        }
      ]
    },
    {
      "cell_type": "markdown",
      "source": [
        "# **Tabella driver standings**"
      ],
      "metadata": {
        "id": "QFEU5N_rTSy_"
      }
    },
    {
      "cell_type": "markdown",
      "source": [
        "# Analisi tabella"
      ],
      "metadata": {
        "id": "VDYAsYM_ezcv"
      }
    },
    {
      "cell_type": "code",
      "source": [
        "#visualizzazione dei dati\n",
        "print(driver_standings)\n",
        "\n",
        "#visualizza colonne\n",
        "print(driver_standings.columns)\n",
        "\n",
        "#conteggio dei dati\n",
        "driver_standings.count()\n",
        "\n",
        "#effetuato controllo per capire cosa significa - per raceId = 1074\n",
        "#driver_standings.loc[driver_standings['raceId'] == 1073]"
      ],
      "metadata": {
        "colab": {
          "base_uri": "https://localhost:8080/"
        },
        "id": "FeqqWPI3e2RN",
        "outputId": "7dee6cba-40fb-4af9-e76c-54751cef643d"
      },
      "execution_count": null,
      "outputs": [
        {
          "output_type": "stream",
          "name": "stdout",
          "text": [
            "       driverStandingsId  raceId  driverId  points  position positionText  wins\n",
            "0                      1      18         1    10.0         1            1     1\n",
            "1                      2      18         2     8.0         2            2     0\n",
            "2                      3      18         3     6.0         3            3     0\n",
            "3                      4      18         4     5.0         4            4     0\n",
            "4                      5      18         5     4.0         5            5     0\n",
            "...                  ...     ...       ...     ...       ...          ...   ...\n",
            "33389              70776    1074       840     0.0        16            -     0\n",
            "33390              70777    1074       852     0.0        17            -     0\n",
            "33391              70778    1074       830     0.0        18            -     0\n",
            "33392              70779    1074        20     0.0        19            -     0\n",
            "33393              70780    1074       855     0.0        20            -     0\n",
            "\n",
            "[33394 rows x 7 columns]\n",
            "Index(['driverStandingsId', 'raceId', 'driverId', 'points', 'position',\n",
            "       'positionText', 'wins'],\n",
            "      dtype='object')\n"
          ]
        },
        {
          "output_type": "execute_result",
          "data": {
            "text/plain": [
              "driverStandingsId    33394\n",
              "raceId               33394\n",
              "driverId             33394\n",
              "points               33394\n",
              "position             33394\n",
              "positionText         33394\n",
              "wins                 33394\n",
              "dtype: int64"
            ]
          },
          "metadata": {},
          "execution_count": 9
        }
      ]
    },
    {
      "cell_type": "markdown",
      "source": [
        "\n",
        "# Relazioni tra i dati"
      ],
      "metadata": {
        "id": "Ace12gK6jFN5"
      }
    },
    {
      "cell_type": "code",
      "source": [
        "#unione di driver_standings e races sul raceId, salvato in un nuovo dataframe driver_points\n",
        "driver_points = pd.merge(driver_standings,races,on='raceId')\n",
        "#unione di driver_points e drivers su driverId\n",
        "driver_points = pd.merge(driver_points,drivers, on='driverId')\n",
        "#otteniamo i dati relativi al campionato 2021\n",
        "driver_points_2021 = driver_points.loc[driver_points['year'] == 2021]\n",
        "#ordiniamoli per numero di gara e posizione\n",
        "driver_points_2021 = driver_points_2021.sort_values(['round','position'])\n",
        "#estrapoliamo i cognomi dei piloti\n",
        "surname = driver_points_2021['surname'].unique()\n",
        "#settiamo la dimensione del grafico\n",
        "plt.figure(figsize=(16,16))\n",
        "#plotting dei dati\n",
        "for driver in driver_points_2021['driverId'].unique():\n",
        "  i = driver_points_2021.loc[driver_points_2021['driverId'] == driver]\n",
        "  plt.plot(i['round'],i['points'], marker = '.')\n",
        "\n",
        "#assegniamo la spaziatura sull'asse delle x\n",
        "plt.xticks(driver_points_2021['round'][::1])\n",
        "#assegniamo una label all'asse delle x\n",
        "plt.xlabel('Round')\n",
        "#assegniamo una label all'asse delle y\n",
        "plt.ylabel('Points')\n",
        "#creiamo la legenda\n",
        "plt.legend(surname, prop={'size': 14})\n",
        "#diamo un titolo al grafico\n",
        "plt.title('Punti dei piloti nel 2021')\n",
        "#salviamo il grafico\n",
        "plt.savefig('Classifica_campionato_piloti_2021',dpi = 300)\n",
        "#mostriamo il grafico\n",
        "plt.show()"
      ],
      "metadata": {
        "colab": {
          "base_uri": "https://localhost:8080/",
          "height": 940
        },
        "id": "4FHYNlD8TW_p",
        "outputId": "c2e79575-5c49-403e-ea88-8c4b7cab0194"
      },
      "execution_count": 129,
      "outputs": [
        {
          "output_type": "display_data",
          "data": {
            "image/png": "[encoded data removed]",
            "text/plain": [
              "<Figure size 1152x1152 with 1 Axes>"
            ]
          },
          "metadata": {}
        }
      ]
    },
    {
      "cell_type": "markdown",
      "source": [
        "# **Tabella circuits**"
      ],
      "metadata": {
        "id": "87F-LwYlmRfQ"
      }
    },
    {
      "cell_type": "code",
      "source": [
        "#visualizzazione dei dati\n",
        "print(circuits)\n",
        "\n",
        "#visualizza colonne\n",
        "print(circuits.columns)\n",
        "\n",
        "#conteggio dei dati\n",
        "circuits.count()"
      ],
      "metadata": {
        "colab": {
          "base_uri": "https://localhost:8080/"
        },
        "id": "Byl_bZ4amUYQ",
        "outputId": "5b2fa7e6-2526-4472-b65f-60763ebb5a2b"
      },
      "execution_count": null,
      "outputs": [
        {
          "output_type": "stream",
          "name": "stdout",
          "text": [
            "    circuitId  ...                                                url\n",
            "0           1  ...  http://en.wikipedia.org/wiki/Melbourne_Grand_P...\n",
            "1           2  ...  http://en.wikipedia.org/wiki/Sepang_Internatio...\n",
            "2           3  ...  http://en.wikipedia.org/wiki/Bahrain_Internati...\n",
            "3           4  ...  http://en.wikipedia.org/wiki/Circuit_de_Barcel...\n",
            "4           5  ...         http://en.wikipedia.org/wiki/Istanbul_Park\n",
            "..        ...  ...                                                ...\n",
            "74         75  ...  http://en.wikipedia.org/wiki/Algarve_Internati...\n",
            "75         76  ...       http://en.wikipedia.org/wiki/Mugello_Circuit\n",
            "76         77  ...  http://en.wikipedia.org/wiki/Jeddah_Street_Cir...\n",
            "77         78  ...  http://en.wikipedia.org/wiki/Losail_Internatio...\n",
            "78         79  ...  https://en.wikipedia.org/wiki/Miami_Internatio...\n",
            "\n",
            "[79 rows x 9 columns]\n",
            "Index(['circuitId', 'circuitRef', 'name', 'location', 'country', 'lat', 'lng',\n",
            "       'alt', 'url'],\n",
            "      dtype='object')\n"
          ]
        },
        {
          "output_type": "execute_result",
          "data": {
            "text/plain": [
              "circuitId     79\n",
              "circuitRef    79\n",
              "name          79\n",
              "location      79\n",
              "country       79\n",
              "lat           79\n",
              "lng           79\n",
              "alt           79\n",
              "url           79\n",
              "dtype: int64"
            ]
          },
          "metadata": {},
          "execution_count": 11
        }
      ]
    },
    {
      "cell_type": "markdown",
      "source": [
        "# **Tabella constructor**"
      ],
      "metadata": {
        "id": "oH9STB8bnZ1P"
      }
    },
    {
      "cell_type": "markdown",
      "source": [
        "# Analisi dei dati"
      ],
      "metadata": {
        "id": "G2klcsESneKB"
      }
    },
    {
      "cell_type": "code",
      "source": [
        "#visualizzazione dei dati\n",
        "print(constructors)\n",
        "\n",
        "#visualizza colonne\n",
        "print(constructors.columns)\n",
        "\n",
        "#conteggio dei dati\n",
        "constructors.count()\n",
        "\n",
        "#visualizzazione indici mancanti\n",
        "constructors.constructorId.unique()"
      ],
      "metadata": {
        "colab": {
          "base_uri": "https://localhost:8080/"
        },
        "id": "SkG5M6rIngsx",
        "outputId": "798a4988-9aa8-4337-d2c0-dba193c837a5"
      },
      "execution_count": null,
      "outputs": [
        {
          "output_type": "stream",
          "name": "stdout",
          "text": [
            "     constructorId  ...                                                url\n",
            "0                1  ...               http://en.wikipedia.org/wiki/McLaren\n",
            "1                2  ...            http://en.wikipedia.org/wiki/BMW_Sauber\n",
            "2                3  ...  http://en.wikipedia.org/wiki/Williams_Grand_Pr...\n",
            "3                4  ...  http://en.wikipedia.org/wiki/Renault_in_Formul...\n",
            "4                5  ...   http://en.wikipedia.org/wiki/Scuderia_Toro_Rosso\n",
            "..             ...  ...                                                ...\n",
            "206            209  ...      http://en.wikipedia.org/wiki/Manor_Motorsport\n",
            "207            210  ...          http://en.wikipedia.org/wiki/Haas_F1_Team\n",
            "208            211  ...  http://en.wikipedia.org/wiki/Racing_Point_F1_Team\n",
            "209            213  ...   http://en.wikipedia.org/wiki/Scuderia_AlphaTauri\n",
            "210            214  ...        http://en.wikipedia.org/wiki/Alpine_F1_Team\n",
            "\n",
            "[211 rows x 5 columns]\n",
            "Index(['constructorId', 'constructorRef', 'name', 'nationality', 'url'], dtype='object')\n"
          ]
        },
        {
          "output_type": "execute_result",
          "data": {
            "text/plain": [
              "array([  1,   2,   3,   4,   5,   6,   7,   8,   9,  10,  11,  12,  13,\n",
              "        14,  15,  16,  17,  18,  19,  20,  21,  22,  23,  24,  25,  26,\n",
              "        27,  28,  29,  30,  31,  32,  33,  34,  35,  36,  37,  38,  39,\n",
              "        40,  41,  42,  44,  45,  46,  47,  48,  49,  50,  51,  52,  53,\n",
              "        54,  55,  56,  57,  58,  59,  60,  61,  62,  63,  64,  65,  66,\n",
              "        67,  68,  69,  70,  71,  72,  73,  74,  75,  76,  77,  78,  79,\n",
              "        80,  81,  82,  83,  84,  85,  86,  87,  88,  89,  90,  91,  92,\n",
              "        93,  94,  95,  96,  97,  98,  99, 100, 101, 102, 103, 104, 105,\n",
              "       106, 107, 108, 109, 110, 111, 112, 113, 114, 115, 116, 117, 118,\n",
              "       119, 120, 121, 122, 123, 124, 125, 126, 127, 128, 129, 130, 131,\n",
              "       132, 133, 134, 135, 136, 137, 138, 139, 140, 141, 142, 143, 144,\n",
              "       145, 146, 147, 148, 149, 150, 151, 152, 153, 154, 155, 156, 157,\n",
              "       158, 159, 160, 161, 162, 163, 164, 167, 166, 168, 169, 170, 171,\n",
              "       172, 173, 174, 175, 176, 177, 178, 179, 180, 181, 182, 183, 184,\n",
              "       185, 186, 187, 188, 189, 190, 191, 192, 193, 194, 195, 196, 197,\n",
              "       198, 199, 200, 201, 202, 203, 204, 205, 206, 207, 208, 209, 210,\n",
              "       211, 213, 214])"
            ]
          },
          "metadata": {},
          "execution_count": 12
        }
      ]
    },
    {
      "cell_type": "markdown",
      "source": [
        "# **Tabella constructor results**"
      ],
      "metadata": {
        "id": "1RrA-ec8sjA6"
      }
    },
    {
      "cell_type": "markdown",
      "source": [
        "# Analisi della tabella"
      ],
      "metadata": {
        "id": "sAFAO8XOsmEN"
      }
    },
    {
      "cell_type": "code",
      "source": [
        "#visualizzazione dei dati\n",
        "print(constructor_results)\n",
        "\n",
        "#visualizza colonne\n",
        "print(constructor_results.columns)\n",
        "\n",
        "#conteggio dei dati\n",
        "constructor_results.count()\n",
        "\n",
        "#controllo dei valori all'interno della colonna status\n",
        "print(constructor_results.loc[constructor_results['status'] != '\\\\N'])\n",
        "\n",
        "#controllo dei constructorsId mancanti\n",
        "constructor_standings.loc[(constructor_standings.constructorId == 43) & (constructor_standings.constructorId == 165) & (constructor_standings.constructorId == 212)]"
      ],
      "metadata": {
        "colab": {
          "base_uri": "https://localhost:8080/",
          "height": 655
        },
        "id": "0XZIpK6UsoJx",
        "outputId": "68a55448-e2e7-470b-d954-fa2adf09f43e"
      },
      "execution_count": null,
      "outputs": [
        {
          "output_type": "stream",
          "name": "stdout",
          "text": [
            "       constructorResultsId  raceId  constructorId  points status\n",
            "0                         1      18              1    14.0     \\N\n",
            "1                         2      18              2     8.0     \\N\n",
            "2                         3      18              3     9.0     \\N\n",
            "3                         4      18              4     5.0     \\N\n",
            "4                         5      18              5     2.0     \\N\n",
            "...                     ...     ...            ...     ...    ...\n",
            "11945                 16445    1073            214     6.0     \\N\n",
            "11946                 16446    1073            117     0.0     \\N\n",
            "11947                 16447    1073            210     0.0     \\N\n",
            "11948                 16448    1073              3     0.0     \\N\n",
            "11949                 16449    1073             51     0.0     \\N\n",
            "\n",
            "[11950 rows x 5 columns]\n",
            "Index(['constructorResultsId', 'raceId', 'constructorId', 'points', 'status'], dtype='object')\n",
            "     constructorResultsId  raceId  constructorId  points status\n",
            "185                   186      36              1    14.0      D\n",
            "195                   196      37              1    18.0      D\n",
            "207                   208      38              1    12.0      D\n",
            "218                   219      39              1    14.0      D\n",
            "228                   229      40              1    18.0      D\n",
            "239                   240      41              1    12.0      D\n",
            "250                   251      42              1    18.0      D\n",
            "262                   263      43              1     8.0      D\n",
            "273                   274      44              1    14.0      D\n",
            "283                   284      45              1    10.0      D\n",
            "294                   295      46              1    15.0      D\n",
            "306                   307      47              1    10.0      D\n",
            "316                   317      48              1    18.0      D\n",
            "328                   329      49              1    11.0      D\n",
            "338                   339      50              1    10.0      D\n",
            "350                   351      51              1     8.0      D\n",
            "361                   362      52              1     8.0      D\n"
          ]
        },
        {
          "output_type": "execute_result",
          "data": {
            "text/html": [
              "\n",
              "  <div id=\"df-e35278e1-163a-4f09-ac85-aaec079c3999\">\n",
              "    <div class=\"colab-df-container\">\n",
              "      <div>\n",
              "<style scoped>\n",
              "    .dataframe tbody tr th:only-of-type {\n",
              "        vertical-align: middle;\n",
              "    }\n",
              "\n",
              "    .dataframe tbody tr th {\n",
              "        vertical-align: top;\n",
              "    }\n",
              "\n",
              "    .dataframe thead th {\n",
              "        text-align: right;\n",
              "    }\n",
              "</style>\n",
              "<table border=\"1\" class=\"dataframe\">\n",
              "  <thead>\n",
              "    <tr style=\"text-align: right;\">\n",
              "      <th></th>\n",
              "      <th>constructorStandingsId</th>\n",
              "      <th>raceId</th>\n",
              "      <th>constructorId</th>\n",
              "      <th>points</th>\n",
              "      <th>position</th>\n",
              "      <th>positionText</th>\n",
              "      <th>wins</th>\n",
              "    </tr>\n",
              "  </thead>\n",
              "  <tbody>\n",
              "  </tbody>\n",
              "</table>\n",
              "</div>\n",
              "      <button class=\"colab-df-convert\" onclick=\"convertToInteractive('df-e35278e1-163a-4f09-ac85-aaec079c3999')\"\n",
              "              title=\"Convert this dataframe to an interactive table.\"\n",
              "              style=\"display:none;\">\n",
              "        \n",
              "  <svg xmlns=\"http://www.w3.org/2000/svg\" height=\"24px\"viewBox=\"0 0 24 24\"\n",
              "       width=\"24px\">\n",
              "    <path d=\"M0 0h24v24H0V0z\" fill=\"none\"/>\n",
              "    <path d=\"M18.56 5.44l.94 2.06.94-2.06 2.06-.94-2.06-.94-.94-2.06-.94 2.06-2.06.94zm-11 1L8.5 8.5l.94-2.06 2.06-.94-2.06-.94L8.5 2.5l-.94 2.06-2.06.94zm10 10l.94 2.06.94-2.06 2.06-.94-2.06-.94-.94-2.06-.94 2.06-2.06.94z\"/><path d=\"M17.41 7.96l-1.37-1.37c-.4-.4-.92-.59-1.43-.59-.52 0-1.04.2-1.43.59L10.3 9.45l-7.72 7.72c-.78.78-.78 2.05 0 2.83L4 21.41c.39.39.9.59 1.41.59.51 0 1.02-.2 1.41-.59l7.78-7.78 2.81-2.81c.8-.78.8-2.07 0-2.86zM5.41 20L4 18.59l7.72-7.72 1.47 1.35L5.41 20z\"/>\n",
              "  </svg>\n",
              "      </button>\n",
              "      \n",
              "  <style>\n",
              "    .colab-df-container {\n",
              "      display:flex;\n",
              "      flex-wrap:wrap;\n",
              "      gap: 12px;\n",
              "    }\n",
              "\n",
              "    .colab-df-convert {\n",
              "      background-color: #E8F0FE;\n",
              "      border: none;\n",
              "      border-radius: 50%;\n",
              "      cursor: pointer;\n",
              "      display: none;\n",
              "      fill: #1967D2;\n",
              "      height: 32px;\n",
              "      padding: 0 0 0 0;\n",
              "      width: 32px;\n",
              "    }\n",
              "\n",
              "    .colab-df-convert:hover {\n",
              "      background-color: #E2EBFA;\n",
              "      box-shadow: 0px 1px 2px rgba(60, 64, 67, 0.3), 0px 1px 3px 1px rgba(60, 64, 67, 0.15);\n",
              "      fill: #174EA6;\n",
              "    }\n",
              "\n",
              "    [theme=dark] .colab-df-convert {\n",
              "      background-color: #3B4455;\n",
              "      fill: #D2E3FC;\n",
              "    }\n",
              "\n",
              "    [theme=dark] .colab-df-convert:hover {\n",
              "      background-color: #434B5C;\n",
              "      box-shadow: 0px 1px 3px 1px rgba(0, 0, 0, 0.15);\n",
              "      filter: drop-shadow(0px 1px 2px rgba(0, 0, 0, 0.3));\n",
              "      fill: #FFFFFF;\n",
              "    }\n",
              "  </style>\n",
              "\n",
              "      <script>\n",
              "        const buttonEl =\n",
              "          document.querySelector('#df-e35278e1-163a-4f09-ac85-aaec079c3999 button.colab-df-convert');\n",
              "        buttonEl.style.display =\n",
              "          google.colab.kernel.accessAllowed ? 'block' : 'none';\n",
              "\n",
              "        async function convertToInteractive(key) {\n",
              "          const element = document.querySelector('#df-e35278e1-163a-4f09-ac85-aaec079c3999');\n",
              "          const dataTable =\n",
              "            await google.colab.kernel.invokeFunction('convertToInteractive',\n",
              "                                                     [key], {});\n",
              "          if (!dataTable) return;\n",
              "\n",
              "          const docLinkHtml = 'Like what you see? Visit the ' +\n",
              "            '<a target=\"_blank\" href=https://colab.research.google.com/notebooks/data_table.ipynb>data table notebook</a>'\n",
              "            + ' to learn more about interactive tables.';\n",
              "          element.innerHTML = '';\n",
              "          dataTable['output_type'] = 'display_data';\n",
              "          await google.colab.output.renderOutput(dataTable, element);\n",
              "          const docLink = document.createElement('div');\n",
              "          docLink.innerHTML = docLinkHtml;\n",
              "          element.appendChild(docLink);\n",
              "        }\n",
              "      </script>\n",
              "    </div>\n",
              "  </div>\n",
              "  "
            ],
            "text/plain": [
              "Empty DataFrame\n",
              "Columns: [constructorStandingsId, raceId, constructorId, points, position, positionText, wins]\n",
              "Index: []"
            ]
          },
          "metadata": {},
          "execution_count": 13
        }
      ]
    },
    {
      "cell_type": "markdown",
      "source": [
        "# **Tabella constructor standings**"
      ],
      "metadata": {
        "id": "8HoGDMr9rAEs"
      }
    },
    {
      "cell_type": "markdown",
      "source": [
        "# Analisi dei dati"
      ],
      "metadata": {
        "id": "Jp6hRbbsrFMd"
      }
    },
    {
      "cell_type": "code",
      "source": [
        "#visualizzazione dei dati\n",
        "print(constructor_standings)\n",
        "\n",
        "#visualizza colonne\n",
        "print(constructor_standings.columns)\n",
        "\n",
        "#conteggio dei dati\n",
        "constructor_standings.count()\n",
        "\n",
        "#controllo dei constructorsId mancanti\n",
        "constructor_standings.loc[(constructor_standings.constructorId == 43) & (constructor_standings.constructorId == 165) & (constructor_standings.constructorId == 212)]"
      ],
      "metadata": {
        "colab": {
          "base_uri": "https://localhost:8080/",
          "height": 362
        },
        "id": "DIo6-4l2rHRn",
        "outputId": "84ba0434-e772-4881-c755-75feca87626b"
      },
      "execution_count": null,
      "outputs": [
        {
          "output_type": "stream",
          "name": "stdout",
          "text": [
            "       constructorStandingsId  raceId  ...  positionText  wins\n",
            "0                           1      18  ...             1     1\n",
            "1                           2      18  ...             3     0\n",
            "2                           3      18  ...             2     0\n",
            "3                           4      18  ...             4     0\n",
            "4                           5      18  ...             5     0\n",
            "...                       ...     ...  ...           ...   ...\n",
            "12711                   27938    1074  ...             -     0\n",
            "12712                   27939    1074  ...             -     0\n",
            "12713                   27940    1074  ...             -     0\n",
            "12714                   27941    1074  ...             -     0\n",
            "12715                   27942    1074  ...             -     0\n",
            "\n",
            "[12716 rows x 7 columns]\n",
            "Index(['constructorStandingsId', 'raceId', 'constructorId', 'points',\n",
            "       'position', 'positionText', 'wins'],\n",
            "      dtype='object')\n"
          ]
        },
        {
          "output_type": "execute_result",
          "data": {
            "text/html": [
              "\n",
              "  <div id=\"df-670e4929-110f-431d-b61e-74dc7f208449\">\n",
              "    <div class=\"colab-df-container\">\n",
              "      <div>\n",
              "<style scoped>\n",
              "    .dataframe tbody tr th:only-of-type {\n",
              "        vertical-align: middle;\n",
              "    }\n",
              "\n",
              "    .dataframe tbody tr th {\n",
              "        vertical-align: top;\n",
              "    }\n",
              "\n",
              "    .dataframe thead th {\n",
              "        text-align: right;\n",
              "    }\n",
              "</style>\n",
              "<table border=\"1\" class=\"dataframe\">\n",
              "  <thead>\n",
              "    <tr style=\"text-align: right;\">\n",
              "      <th></th>\n",
              "      <th>constructorStandingsId</th>\n",
              "      <th>raceId</th>\n",
              "      <th>constructorId</th>\n",
              "      <th>points</th>\n",
              "      <th>position</th>\n",
              "      <th>positionText</th>\n",
              "      <th>wins</th>\n",
              "    </tr>\n",
              "  </thead>\n",
              "  <tbody>\n",
              "  </tbody>\n",
              "</table>\n",
              "</div>\n",
              "      <button class=\"colab-df-convert\" onclick=\"convertToInteractive('df-670e4929-110f-431d-b61e-74dc7f208449')\"\n",
              "              title=\"Convert this dataframe to an interactive table.\"\n",
              "              style=\"display:none;\">\n",
              "        \n",
              "  <svg xmlns=\"http://www.w3.org/2000/svg\" height=\"24px\"viewBox=\"0 0 24 24\"\n",
              "       width=\"24px\">\n",
              "    <path d=\"M0 0h24v24H0V0z\" fill=\"none\"/>\n",
              "    <path d=\"M18.56 5.44l.94 2.06.94-2.06 2.06-.94-2.06-.94-.94-2.06-.94 2.06-2.06.94zm-11 1L8.5 8.5l.94-2.06 2.06-.94-2.06-.94L8.5 2.5l-.94 2.06-2.06.94zm10 10l.94 2.06.94-2.06 2.06-.94-2.06-.94-.94-2.06-.94 2.06-2.06.94z\"/><path d=\"M17.41 7.96l-1.37-1.37c-.4-.4-.92-.59-1.43-.59-.52 0-1.04.2-1.43.59L10.3 9.45l-7.72 7.72c-.78.78-.78 2.05 0 2.83L4 21.41c.39.39.9.59 1.41.59.51 0 1.02-.2 1.41-.59l7.78-7.78 2.81-2.81c.8-.78.8-2.07 0-2.86zM5.41 20L4 18.59l7.72-7.72 1.47 1.35L5.41 20z\"/>\n",
              "  </svg>\n",
              "      </button>\n",
              "      \n",
              "  <style>\n",
              "    .colab-df-container {\n",
              "      display:flex;\n",
              "      flex-wrap:wrap;\n",
              "      gap: 12px;\n",
              "    }\n",
              "\n",
              "    .colab-df-convert {\n",
              "      background-color: #E8F0FE;\n",
              "      border: none;\n",
              "      border-radius: 50%;\n",
              "      cursor: pointer;\n",
              "      display: none;\n",
              "      fill: #1967D2;\n",
              "      height: 32px;\n",
              "      padding: 0 0 0 0;\n",
              "      width: 32px;\n",
              "    }\n",
              "\n",
              "    .colab-df-convert:hover {\n",
              "      background-color: #E2EBFA;\n",
              "      box-shadow: 0px 1px 2px rgba(60, 64, 67, 0.3), 0px 1px 3px 1px rgba(60, 64, 67, 0.15);\n",
              "      fill: #174EA6;\n",
              "    }\n",
              "\n",
              "    [theme=dark] .colab-df-convert {\n",
              "      background-color: #3B4455;\n",
              "      fill: #D2E3FC;\n",
              "    }\n",
              "\n",
              "    [theme=dark] .colab-df-convert:hover {\n",
              "      background-color: #434B5C;\n",
              "      box-shadow: 0px 1px 3px 1px rgba(0, 0, 0, 0.15);\n",
              "      filter: drop-shadow(0px 1px 2px rgba(0, 0, 0, 0.3));\n",
              "      fill: #FFFFFF;\n",
              "    }\n",
              "  </style>\n",
              "\n",
              "      <script>\n",
              "        const buttonEl =\n",
              "          document.querySelector('#df-670e4929-110f-431d-b61e-74dc7f208449 button.colab-df-convert');\n",
              "        buttonEl.style.display =\n",
              "          google.colab.kernel.accessAllowed ? 'block' : 'none';\n",
              "\n",
              "        async function convertToInteractive(key) {\n",
              "          const element = document.querySelector('#df-670e4929-110f-431d-b61e-74dc7f208449');\n",
              "          const dataTable =\n",
              "            await google.colab.kernel.invokeFunction('convertToInteractive',\n",
              "                                                     [key], {});\n",
              "          if (!dataTable) return;\n",
              "\n",
              "          const docLinkHtml = 'Like what you see? Visit the ' +\n",
              "            '<a target=\"_blank\" href=https://colab.research.google.com/notebooks/data_table.ipynb>data table notebook</a>'\n",
              "            + ' to learn more about interactive tables.';\n",
              "          element.innerHTML = '';\n",
              "          dataTable['output_type'] = 'display_data';\n",
              "          await google.colab.output.renderOutput(dataTable, element);\n",
              "          const docLink = document.createElement('div');\n",
              "          docLink.innerHTML = docLinkHtml;\n",
              "          element.appendChild(docLink);\n",
              "        }\n",
              "      </script>\n",
              "    </div>\n",
              "  </div>\n",
              "  "
            ],
            "text/plain": [
              "Empty DataFrame\n",
              "Columns: [constructorStandingsId, raceId, constructorId, points, position, positionText, wins]\n",
              "Index: []"
            ]
          },
          "metadata": {},
          "execution_count": 14
        }
      ]
    },
    {
      "cell_type": "markdown",
      "source": [
        "# Relazioni tra i dati"
      ],
      "metadata": {
        "id": "8aNG7Spkzws1"
      }
    },
    {
      "cell_type": "code",
      "source": [
        "#unione di constructor_standings e races sul raceId, salvato in un nuovo dataframe constructor_points\n",
        "constructor_points = pd.merge(constructor_standings,races,on='raceId')\n",
        "#unione di constructor_points e constructors su constructorId\n",
        "constructor_points = pd.merge(constructor_points,constructors, on='constructorId')\n",
        "#otteniamo i dati relativi al campionato 2021\n",
        "constructor_points_2021 = constructor_points.loc[constructor_points['year'] == 2021]\n",
        "#ordiniamoli per numero di gara e posizione\n",
        "constructor_points_2021 = constructor_points_2021.sort_values(['round','position'])\n",
        "#rinominiamo colonne con nomi simili\n",
        "constructor_points_2021.rename({'name_x':'GP_Name','name_y':'team_name'},axis=1, inplace=True)\n",
        "\n",
        "#estrapoliamo i nomi dei team\n",
        "team_name = constructor_points_2021['team_name'].unique()\n",
        "#settiamo la dimensione del grafico\n",
        "plt.figure(figsize=(16,16))\n",
        "#plotting dei dati\n",
        "for team in constructor_points_2021['constructorId'].unique():\n",
        "  i = constructor_points_2021.loc[constructor_points_2021['constructorId'] == team]\n",
        "  plt.plot(i['round'],i['points'], marker = '.')\n",
        "\n",
        "#assegniamo la spaziatura sull'asse delle x\n",
        "plt.xticks(constructor_points_2021['round'][::1])\n",
        "#assegniamo una label all'asse delle x\n",
        "plt.xlabel('Round')\n",
        "#assegniamo una label all'asse delle y\n",
        "plt.ylabel('Points')\n",
        "#creiamo la legenda\n",
        "plt.legend(team_name, prop={'size': 14})\n",
        "#diamo un titolo al grafico\n",
        "plt.title('Punti dei team nel 2021')\n",
        "#salviamo il grafico\n",
        "plt.savefig('Classifica_campionato_team_2021',dpi = 300)\n",
        "#mostriamo il grafico\n",
        "plt.show()"
      ],
      "metadata": {
        "colab": {
          "base_uri": "https://localhost:8080/",
          "height": 940
        },
        "id": "DOjnUmOlz0Gx",
        "outputId": "f4d532c3-f3b3-489c-a400-3479c6771448"
      },
      "execution_count": 127,
      "outputs": [
        {
          "output_type": "display_data",
          "data": {
            "image/png": "[encoded data removed]",
            "text/plain": [
              "<Figure size 1152x1152 with 1 Axes>"
            ]
          },
          "metadata": {}
        }
      ]
    },
    {
      "cell_type": "code",
      "source": [
        "#settiamo le dimensioni del grafico\n",
        "plt.figure(figsize=(9,9))\n",
        "#plottiamo i dati\n",
        "for team in constructor_points_2021['constructorId'].unique():\n",
        "  i = constructor_points_2021.loc[constructor_points_2021['constructorId'] == team]\n",
        "  plt.bar(i['team_name'],i['wins'])\n",
        "\n",
        "#settiamo la label dell'asse delle x\n",
        "plt.xlabel('Team')\n",
        "#settiamo la label dell'asse delle y\n",
        "plt.ylabel('Numero vittorie')\n",
        "#settiamo lo spazio sull'asse delle y\n",
        "plt.yticks(constructor_points_2021['wins'][::1])\n",
        "#rotiamo di 90° i nomi dei team presenti nel grafico\n",
        "plt.xticks(rotation = 90)\n",
        "#settiamo il titolo del grafico\n",
        "plt.title('Numero di vittorie per team nel 2021')\n",
        "#salviamo il grafico\n",
        "plt.savefig('Vittorie_per_team_2021.png',dpi= 300)\n",
        "#mostriamo il grafico\n",
        "plt.show()"
      ],
      "metadata": {
        "colab": {
          "base_uri": "https://localhost:8080/",
          "height": 637
        },
        "id": "Pn1xsEcQ5Ciz",
        "outputId": "fe8d90e8-b627-4c2d-9a0b-9c1215b7b804"
      },
      "execution_count": 128,
      "outputs": [
        {
          "output_type": "display_data",
          "data": {
            "image/png": "[encoded data removed]",
            "text/plain": [
              "<Figure size 648x648 with 1 Axes>"
            ]
          },
          "metadata": {}
        }
      ]
    },
    {
      "cell_type": "markdown",
      "source": [
        "# **Tabella lap times**"
      ],
      "metadata": {
        "id": "E04oYWWQUGVA"
      }
    },
    {
      "cell_type": "markdown",
      "source": [
        "# Analisi dei dati"
      ],
      "metadata": {
        "id": "kW4Fyy1BUKdo"
      }
    },
    {
      "cell_type": "code",
      "source": [
        "#visualizzazione dei dati\n",
        "print(lap_times)\n",
        "\n",
        "#visualizza colonne\n",
        "print(lap_times.columns)\n",
        "\n",
        "#conteggio dei dati\n",
        "lap_times.count()\n",
        "\n",
        "#controllo dei tempi dei piloti ritirati: come esempio si è scelto il pilota Latifi (driverId = 849) nel Gran Premio di Abu Dhabi 2021, che a causa\n",
        "#di un incidente al 50° giro non ha concluso la gara\n",
        "lap_times.loc[(lap_times.raceId == 1073) & (lap_times.driverId == 849)]"
      ],
      "metadata": {
        "colab": {
          "base_uri": "https://localhost:8080/",
          "height": 1000
        },
        "id": "CG46XHipUOvS",
        "outputId": "7082d28d-508c-4057-935d-6f1a6e1d6288"
      },
      "execution_count": null,
      "outputs": [
        {
          "output_type": "stream",
          "name": "stdout",
          "text": [
            "        raceId  driverId  lap  position      time  milliseconds\n",
            "0          841        20    1         1  1:38.109         98109\n",
            "1          841        20    2         1  1:33.006         93006\n",
            "2          841        20    3         1  1:32.713         92713\n",
            "3          841        20    4         1  1:32.803         92803\n",
            "4          841        20    5         1  1:32.342         92342\n",
            "...        ...       ...  ...       ...       ...           ...\n",
            "514587    1073       847   22        15  1:30.821         90821\n",
            "514588    1073       847   23        15  1:30.647         90647\n",
            "514589    1073       847   24        14  1:31.577         91577\n",
            "514590    1073       847   25        16  1:32.794         92794\n",
            "514591    1073       847   26        18  2:46.262        166262\n",
            "\n",
            "[514592 rows x 6 columns]\n",
            "Index(['raceId', 'driverId', 'lap', 'position', 'time', 'milliseconds'], dtype='object')\n"
          ]
        },
        {
          "output_type": "execute_result",
          "data": {
            "text/html": [
              "\n",
              "  <div id=\"df-478c859e-9d88-47ad-b2ed-2140950384f9\">\n",
              "    <div class=\"colab-df-container\">\n",
              "      <div>\n",
              "<style scoped>\n",
              "    .dataframe tbody tr th:only-of-type {\n",
              "        vertical-align: middle;\n",
              "    }\n",
              "\n",
              "    .dataframe tbody tr th {\n",
              "        vertical-align: top;\n",
              "    }\n",
              "\n",
              "    .dataframe thead th {\n",
              "        text-align: right;\n",
              "    }\n",
              "</style>\n",
              "<table border=\"1\" class=\"dataframe\">\n",
              "  <thead>\n",
              "    <tr style=\"text-align: right;\">\n",
              "      <th></th>\n",
              "      <th>raceId</th>\n",
              "      <th>driverId</th>\n",
              "      <th>lap</th>\n",
              "      <th>position</th>\n",
              "      <th>time</th>\n",
              "      <th>milliseconds</th>\n",
              "    </tr>\n",
              "  </thead>\n",
              "  <tbody>\n",
              "    <tr>\n",
              "      <th>514434</th>\n",
              "      <td>1073</td>\n",
              "      <td>849</td>\n",
              "      <td>1</td>\n",
              "      <td>16</td>\n",
              "      <td>1:41.174</td>\n",
              "      <td>101174</td>\n",
              "    </tr>\n",
              "    <tr>\n",
              "      <th>514435</th>\n",
              "      <td>1073</td>\n",
              "      <td>849</td>\n",
              "      <td>2</td>\n",
              "      <td>17</td>\n",
              "      <td>1:34.545</td>\n",
              "      <td>94545</td>\n",
              "    </tr>\n",
              "    <tr>\n",
              "      <th>514436</th>\n",
              "      <td>1073</td>\n",
              "      <td>849</td>\n",
              "      <td>3</td>\n",
              "      <td>17</td>\n",
              "      <td>1:33.236</td>\n",
              "      <td>93236</td>\n",
              "    </tr>\n",
              "    <tr>\n",
              "      <th>514437</th>\n",
              "      <td>1073</td>\n",
              "      <td>849</td>\n",
              "      <td>4</td>\n",
              "      <td>17</td>\n",
              "      <td>1:32.304</td>\n",
              "      <td>92304</td>\n",
              "    </tr>\n",
              "    <tr>\n",
              "      <th>514438</th>\n",
              "      <td>1073</td>\n",
              "      <td>849</td>\n",
              "      <td>5</td>\n",
              "      <td>17</td>\n",
              "      <td>1:31.755</td>\n",
              "      <td>91755</td>\n",
              "    </tr>\n",
              "    <tr>\n",
              "      <th>514439</th>\n",
              "      <td>1073</td>\n",
              "      <td>849</td>\n",
              "      <td>6</td>\n",
              "      <td>17</td>\n",
              "      <td>1:32.003</td>\n",
              "      <td>92003</td>\n",
              "    </tr>\n",
              "    <tr>\n",
              "      <th>514440</th>\n",
              "      <td>1073</td>\n",
              "      <td>849</td>\n",
              "      <td>7</td>\n",
              "      <td>17</td>\n",
              "      <td>1:31.378</td>\n",
              "      <td>91378</td>\n",
              "    </tr>\n",
              "    <tr>\n",
              "      <th>514441</th>\n",
              "      <td>1073</td>\n",
              "      <td>849</td>\n",
              "      <td>8</td>\n",
              "      <td>17</td>\n",
              "      <td>1:31.795</td>\n",
              "      <td>91795</td>\n",
              "    </tr>\n",
              "    <tr>\n",
              "      <th>514442</th>\n",
              "      <td>1073</td>\n",
              "      <td>849</td>\n",
              "      <td>9</td>\n",
              "      <td>17</td>\n",
              "      <td>1:31.704</td>\n",
              "      <td>91704</td>\n",
              "    </tr>\n",
              "    <tr>\n",
              "      <th>514443</th>\n",
              "      <td>1073</td>\n",
              "      <td>849</td>\n",
              "      <td>10</td>\n",
              "      <td>17</td>\n",
              "      <td>1:31.389</td>\n",
              "      <td>91389</td>\n",
              "    </tr>\n",
              "    <tr>\n",
              "      <th>514444</th>\n",
              "      <td>1073</td>\n",
              "      <td>849</td>\n",
              "      <td>11</td>\n",
              "      <td>17</td>\n",
              "      <td>1:31.511</td>\n",
              "      <td>91511</td>\n",
              "    </tr>\n",
              "    <tr>\n",
              "      <th>514445</th>\n",
              "      <td>1073</td>\n",
              "      <td>849</td>\n",
              "      <td>12</td>\n",
              "      <td>17</td>\n",
              "      <td>1:30.971</td>\n",
              "      <td>90971</td>\n",
              "    </tr>\n",
              "    <tr>\n",
              "      <th>514446</th>\n",
              "      <td>1073</td>\n",
              "      <td>849</td>\n",
              "      <td>13</td>\n",
              "      <td>17</td>\n",
              "      <td>1:31.078</td>\n",
              "      <td>91078</td>\n",
              "    </tr>\n",
              "    <tr>\n",
              "      <th>514447</th>\n",
              "      <td>1073</td>\n",
              "      <td>849</td>\n",
              "      <td>14</td>\n",
              "      <td>17</td>\n",
              "      <td>1:30.932</td>\n",
              "      <td>90932</td>\n",
              "    </tr>\n",
              "    <tr>\n",
              "      <th>514448</th>\n",
              "      <td>1073</td>\n",
              "      <td>849</td>\n",
              "      <td>15</td>\n",
              "      <td>17</td>\n",
              "      <td>1:31.134</td>\n",
              "      <td>91134</td>\n",
              "    </tr>\n",
              "    <tr>\n",
              "      <th>514449</th>\n",
              "      <td>1073</td>\n",
              "      <td>849</td>\n",
              "      <td>16</td>\n",
              "      <td>15</td>\n",
              "      <td>1:31.047</td>\n",
              "      <td>91047</td>\n",
              "    </tr>\n",
              "    <tr>\n",
              "      <th>514450</th>\n",
              "      <td>1073</td>\n",
              "      <td>849</td>\n",
              "      <td>17</td>\n",
              "      <td>16</td>\n",
              "      <td>1:31.891</td>\n",
              "      <td>91891</td>\n",
              "    </tr>\n",
              "    <tr>\n",
              "      <th>514451</th>\n",
              "      <td>1073</td>\n",
              "      <td>849</td>\n",
              "      <td>18</td>\n",
              "      <td>15</td>\n",
              "      <td>1:30.912</td>\n",
              "      <td>90912</td>\n",
              "    </tr>\n",
              "    <tr>\n",
              "      <th>514452</th>\n",
              "      <td>1073</td>\n",
              "      <td>849</td>\n",
              "      <td>19</td>\n",
              "      <td>14</td>\n",
              "      <td>1:30.884</td>\n",
              "      <td>90884</td>\n",
              "    </tr>\n",
              "    <tr>\n",
              "      <th>514453</th>\n",
              "      <td>1073</td>\n",
              "      <td>849</td>\n",
              "      <td>20</td>\n",
              "      <td>15</td>\n",
              "      <td>1:32.317</td>\n",
              "      <td>92317</td>\n",
              "    </tr>\n",
              "    <tr>\n",
              "      <th>514454</th>\n",
              "      <td>1073</td>\n",
              "      <td>849</td>\n",
              "      <td>21</td>\n",
              "      <td>15</td>\n",
              "      <td>1:30.886</td>\n",
              "      <td>90886</td>\n",
              "    </tr>\n",
              "    <tr>\n",
              "      <th>514455</th>\n",
              "      <td>1073</td>\n",
              "      <td>849</td>\n",
              "      <td>22</td>\n",
              "      <td>14</td>\n",
              "      <td>1:32.122</td>\n",
              "      <td>92122</td>\n",
              "    </tr>\n",
              "    <tr>\n",
              "      <th>514456</th>\n",
              "      <td>1073</td>\n",
              "      <td>849</td>\n",
              "      <td>23</td>\n",
              "      <td>14</td>\n",
              "      <td>1:30.803</td>\n",
              "      <td>90803</td>\n",
              "    </tr>\n",
              "    <tr>\n",
              "      <th>514457</th>\n",
              "      <td>1073</td>\n",
              "      <td>849</td>\n",
              "      <td>24</td>\n",
              "      <td>13</td>\n",
              "      <td>1:30.935</td>\n",
              "      <td>90935</td>\n",
              "    </tr>\n",
              "    <tr>\n",
              "      <th>514458</th>\n",
              "      <td>1073</td>\n",
              "      <td>849</td>\n",
              "      <td>25</td>\n",
              "      <td>13</td>\n",
              "      <td>1:31.055</td>\n",
              "      <td>91055</td>\n",
              "    </tr>\n",
              "    <tr>\n",
              "      <th>514459</th>\n",
              "      <td>1073</td>\n",
              "      <td>849</td>\n",
              "      <td>26</td>\n",
              "      <td>13</td>\n",
              "      <td>1:31.067</td>\n",
              "      <td>91067</td>\n",
              "    </tr>\n",
              "    <tr>\n",
              "      <th>514460</th>\n",
              "      <td>1073</td>\n",
              "      <td>849</td>\n",
              "      <td>27</td>\n",
              "      <td>14</td>\n",
              "      <td>1:32.497</td>\n",
              "      <td>92497</td>\n",
              "    </tr>\n",
              "    <tr>\n",
              "      <th>514461</th>\n",
              "      <td>1073</td>\n",
              "      <td>849</td>\n",
              "      <td>28</td>\n",
              "      <td>16</td>\n",
              "      <td>1:34.166</td>\n",
              "      <td>94166</td>\n",
              "    </tr>\n",
              "    <tr>\n",
              "      <th>514462</th>\n",
              "      <td>1073</td>\n",
              "      <td>849</td>\n",
              "      <td>29</td>\n",
              "      <td>17</td>\n",
              "      <td>1:49.780</td>\n",
              "      <td>109780</td>\n",
              "    </tr>\n",
              "    <tr>\n",
              "      <th>514463</th>\n",
              "      <td>1073</td>\n",
              "      <td>849</td>\n",
              "      <td>30</td>\n",
              "      <td>17</td>\n",
              "      <td>1:29.293</td>\n",
              "      <td>89293</td>\n",
              "    </tr>\n",
              "    <tr>\n",
              "      <th>514464</th>\n",
              "      <td>1073</td>\n",
              "      <td>849</td>\n",
              "      <td>31</td>\n",
              "      <td>17</td>\n",
              "      <td>1:29.393</td>\n",
              "      <td>89393</td>\n",
              "    </tr>\n",
              "    <tr>\n",
              "      <th>514465</th>\n",
              "      <td>1073</td>\n",
              "      <td>849</td>\n",
              "      <td>32</td>\n",
              "      <td>17</td>\n",
              "      <td>1:29.431</td>\n",
              "      <td>89431</td>\n",
              "    </tr>\n",
              "    <tr>\n",
              "      <th>514466</th>\n",
              "      <td>1073</td>\n",
              "      <td>849</td>\n",
              "      <td>33</td>\n",
              "      <td>17</td>\n",
              "      <td>1:29.542</td>\n",
              "      <td>89542</td>\n",
              "    </tr>\n",
              "    <tr>\n",
              "      <th>514467</th>\n",
              "      <td>1073</td>\n",
              "      <td>849</td>\n",
              "      <td>34</td>\n",
              "      <td>16</td>\n",
              "      <td>1:29.530</td>\n",
              "      <td>89530</td>\n",
              "    </tr>\n",
              "    <tr>\n",
              "      <th>514468</th>\n",
              "      <td>1073</td>\n",
              "      <td>849</td>\n",
              "      <td>35</td>\n",
              "      <td>16</td>\n",
              "      <td>1:47.576</td>\n",
              "      <td>107576</td>\n",
              "    </tr>\n",
              "    <tr>\n",
              "      <th>514469</th>\n",
              "      <td>1073</td>\n",
              "      <td>849</td>\n",
              "      <td>36</td>\n",
              "      <td>16</td>\n",
              "      <td>1:53.570</td>\n",
              "      <td>113570</td>\n",
              "    </tr>\n",
              "    <tr>\n",
              "      <th>514470</th>\n",
              "      <td>1073</td>\n",
              "      <td>849</td>\n",
              "      <td>37</td>\n",
              "      <td>16</td>\n",
              "      <td>1:31.298</td>\n",
              "      <td>91298</td>\n",
              "    </tr>\n",
              "    <tr>\n",
              "      <th>514471</th>\n",
              "      <td>1073</td>\n",
              "      <td>849</td>\n",
              "      <td>38</td>\n",
              "      <td>16</td>\n",
              "      <td>1:29.844</td>\n",
              "      <td>89844</td>\n",
              "    </tr>\n",
              "    <tr>\n",
              "      <th>514472</th>\n",
              "      <td>1073</td>\n",
              "      <td>849</td>\n",
              "      <td>39</td>\n",
              "      <td>16</td>\n",
              "      <td>1:29.897</td>\n",
              "      <td>89897</td>\n",
              "    </tr>\n",
              "    <tr>\n",
              "      <th>514473</th>\n",
              "      <td>1073</td>\n",
              "      <td>849</td>\n",
              "      <td>40</td>\n",
              "      <td>16</td>\n",
              "      <td>1:29.627</td>\n",
              "      <td>89627</td>\n",
              "    </tr>\n",
              "    <tr>\n",
              "      <th>514474</th>\n",
              "      <td>1073</td>\n",
              "      <td>849</td>\n",
              "      <td>41</td>\n",
              "      <td>16</td>\n",
              "      <td>1:29.676</td>\n",
              "      <td>89676</td>\n",
              "    </tr>\n",
              "    <tr>\n",
              "      <th>514475</th>\n",
              "      <td>1073</td>\n",
              "      <td>849</td>\n",
              "      <td>42</td>\n",
              "      <td>16</td>\n",
              "      <td>1:29.542</td>\n",
              "      <td>89542</td>\n",
              "    </tr>\n",
              "    <tr>\n",
              "      <th>514476</th>\n",
              "      <td>1073</td>\n",
              "      <td>849</td>\n",
              "      <td>43</td>\n",
              "      <td>16</td>\n",
              "      <td>1:29.337</td>\n",
              "      <td>89337</td>\n",
              "    </tr>\n",
              "    <tr>\n",
              "      <th>514477</th>\n",
              "      <td>1073</td>\n",
              "      <td>849</td>\n",
              "      <td>44</td>\n",
              "      <td>16</td>\n",
              "      <td>1:29.824</td>\n",
              "      <td>89824</td>\n",
              "    </tr>\n",
              "    <tr>\n",
              "      <th>514478</th>\n",
              "      <td>1073</td>\n",
              "      <td>849</td>\n",
              "      <td>45</td>\n",
              "      <td>16</td>\n",
              "      <td>1:30.962</td>\n",
              "      <td>90962</td>\n",
              "    </tr>\n",
              "    <tr>\n",
              "      <th>514479</th>\n",
              "      <td>1073</td>\n",
              "      <td>849</td>\n",
              "      <td>46</td>\n",
              "      <td>16</td>\n",
              "      <td>1:29.995</td>\n",
              "      <td>89995</td>\n",
              "    </tr>\n",
              "    <tr>\n",
              "      <th>514480</th>\n",
              "      <td>1073</td>\n",
              "      <td>849</td>\n",
              "      <td>47</td>\n",
              "      <td>16</td>\n",
              "      <td>1:30.134</td>\n",
              "      <td>90134</td>\n",
              "    </tr>\n",
              "    <tr>\n",
              "      <th>514481</th>\n",
              "      <td>1073</td>\n",
              "      <td>849</td>\n",
              "      <td>48</td>\n",
              "      <td>16</td>\n",
              "      <td>1:30.648</td>\n",
              "      <td>90648</td>\n",
              "    </tr>\n",
              "    <tr>\n",
              "      <th>514482</th>\n",
              "      <td>1073</td>\n",
              "      <td>849</td>\n",
              "      <td>49</td>\n",
              "      <td>16</td>\n",
              "      <td>1:29.349</td>\n",
              "      <td>89349</td>\n",
              "    </tr>\n",
              "    <tr>\n",
              "      <th>514483</th>\n",
              "      <td>1073</td>\n",
              "      <td>849</td>\n",
              "      <td>50</td>\n",
              "      <td>16</td>\n",
              "      <td>1:29.752</td>\n",
              "      <td>89752</td>\n",
              "    </tr>\n",
              "  </tbody>\n",
              "</table>\n",
              "</div>\n",
              "      <button class=\"colab-df-convert\" onclick=\"convertToInteractive('df-478c859e-9d88-47ad-b2ed-2140950384f9')\"\n",
              "              title=\"Convert this dataframe to an interactive table.\"\n",
              "              style=\"display:none;\">\n",
              "        \n",
              "  <svg xmlns=\"http://www.w3.org/2000/svg\" height=\"24px\"viewBox=\"0 0 24 24\"\n",
              "       width=\"24px\">\n",
              "    <path d=\"M0 0h24v24H0V0z\" fill=\"none\"/>\n",
              "    <path d=\"M18.56 5.44l.94 2.06.94-2.06 2.06-.94-2.06-.94-.94-2.06-.94 2.06-2.06.94zm-11 1L8.5 8.5l.94-2.06 2.06-.94-2.06-.94L8.5 2.5l-.94 2.06-2.06.94zm10 10l.94 2.06.94-2.06 2.06-.94-2.06-.94-.94-2.06-.94 2.06-2.06.94z\"/><path d=\"M17.41 7.96l-1.37-1.37c-.4-.4-.92-.59-1.43-.59-.52 0-1.04.2-1.43.59L10.3 9.45l-7.72 7.72c-.78.78-.78 2.05 0 2.83L4 21.41c.39.39.9.59 1.41.59.51 0 1.02-.2 1.41-.59l7.78-7.78 2.81-2.81c.8-.78.8-2.07 0-2.86zM5.41 20L4 18.59l7.72-7.72 1.47 1.35L5.41 20z\"/>\n",
              "  </svg>\n",
              "      </button>\n",
              "      \n",
              "  <style>\n",
              "    .colab-df-container {\n",
              "      display:flex;\n",
              "      flex-wrap:wrap;\n",
              "      gap: 12px;\n",
              "    }\n",
              "\n",
              "    .colab-df-convert {\n",
              "      background-color: #E8F0FE;\n",
              "      border: none;\n",
              "      border-radius: 50%;\n",
              "      cursor: pointer;\n",
              "      display: none;\n",
              "      fill: #1967D2;\n",
              "      height: 32px;\n",
              "      padding: 0 0 0 0;\n",
              "      width: 32px;\n",
              "    }\n",
              "\n",
              "    .colab-df-convert:hover {\n",
              "      background-color: #E2EBFA;\n",
              "      box-shadow: 0px 1px 2px rgba(60, 64, 67, 0.3), 0px 1px 3px 1px rgba(60, 64, 67, 0.15);\n",
              "      fill: #174EA6;\n",
              "    }\n",
              "\n",
              "    [theme=dark] .colab-df-convert {\n",
              "      background-color: #3B4455;\n",
              "      fill: #D2E3FC;\n",
              "    }\n",
              "\n",
              "    [theme=dark] .colab-df-convert:hover {\n",
              "      background-color: #434B5C;\n",
              "      box-shadow: 0px 1px 3px 1px rgba(0, 0, 0, 0.15);\n",
              "      filter: drop-shadow(0px 1px 2px rgba(0, 0, 0, 0.3));\n",
              "      fill: #FFFFFF;\n",
              "    }\n",
              "  </style>\n",
              "\n",
              "      <script>\n",
              "        const buttonEl =\n",
              "          document.querySelector('#df-478c859e-9d88-47ad-b2ed-2140950384f9 button.colab-df-convert');\n",
              "        buttonEl.style.display =\n",
              "          google.colab.kernel.accessAllowed ? 'block' : 'none';\n",
              "\n",
              "        async function convertToInteractive(key) {\n",
              "          const element = document.querySelector('#df-478c859e-9d88-47ad-b2ed-2140950384f9');\n",
              "          const dataTable =\n",
              "            await google.colab.kernel.invokeFunction('convertToInteractive',\n",
              "                                                     [key], {});\n",
              "          if (!dataTable) return;\n",
              "\n",
              "          const docLinkHtml = 'Like what you see? Visit the ' +\n",
              "            '<a target=\"_blank\" href=https://colab.research.google.com/notebooks/data_table.ipynb>data table notebook</a>'\n",
              "            + ' to learn more about interactive tables.';\n",
              "          element.innerHTML = '';\n",
              "          dataTable['output_type'] = 'display_data';\n",
              "          await google.colab.output.renderOutput(dataTable, element);\n",
              "          const docLink = document.createElement('div');\n",
              "          docLink.innerHTML = docLinkHtml;\n",
              "          element.appendChild(docLink);\n",
              "        }\n",
              "      </script>\n",
              "    </div>\n",
              "  </div>\n",
              "  "
            ],
            "text/plain": [
              "        raceId  driverId  lap  position      time  milliseconds\n",
              "514434    1073       849    1        16  1:41.174        101174\n",
              "514435    1073       849    2        17  1:34.545         94545\n",
              "514436    1073       849    3        17  1:33.236         93236\n",
              "514437    1073       849    4        17  1:32.304         92304\n",
              "514438    1073       849    5        17  1:31.755         91755\n",
              "514439    1073       849    6        17  1:32.003         92003\n",
              "514440    1073       849    7        17  1:31.378         91378\n",
              "514441    1073       849    8        17  1:31.795         91795\n",
              "514442    1073       849    9        17  1:31.704         91704\n",
              "514443    1073       849   10        17  1:31.389         91389\n",
              "514444    1073       849   11        17  1:31.511         91511\n",
              "514445    1073       849   12        17  1:30.971         90971\n",
              "514446    1073       849   13        17  1:31.078         91078\n",
              "514447    1073       849   14        17  1:30.932         90932\n",
              "514448    1073       849   15        17  1:31.134         91134\n",
              "514449    1073       849   16        15  1:31.047         91047\n",
              "514450    1073       849   17        16  1:31.891         91891\n",
              "514451    1073       849   18        15  1:30.912         90912\n",
              "514452    1073       849   19        14  1:30.884         90884\n",
              "514453    1073       849   20        15  1:32.317         92317\n",
              "514454    1073       849   21        15  1:30.886         90886\n",
              "514455    1073       849   22        14  1:32.122         92122\n",
              "514456    1073       849   23        14  1:30.803         90803\n",
              "514457    1073       849   24        13  1:30.935         90935\n",
              "514458    1073       849   25        13  1:31.055         91055\n",
              "514459    1073       849   26        13  1:31.067         91067\n",
              "514460    1073       849   27        14  1:32.497         92497\n",
              "514461    1073       849   28        16  1:34.166         94166\n",
              "514462    1073       849   29        17  1:49.780        109780\n",
              "514463    1073       849   30        17  1:29.293         89293\n",
              "514464    1073       849   31        17  1:29.393         89393\n",
              "514465    1073       849   32        17  1:29.431         89431\n",
              "514466    1073       849   33        17  1:29.542         89542\n",
              "514467    1073       849   34        16  1:29.530         89530\n",
              "514468    1073       849   35        16  1:47.576        107576\n",
              "514469    1073       849   36        16  1:53.570        113570\n",
              "514470    1073       849   37        16  1:31.298         91298\n",
              "514471    1073       849   38        16  1:29.844         89844\n",
              "514472    1073       849   39        16  1:29.897         89897\n",
              "514473    1073       849   40        16  1:29.627         89627\n",
              "514474    1073       849   41        16  1:29.676         89676\n",
              "514475    1073       849   42        16  1:29.542         89542\n",
              "514476    1073       849   43        16  1:29.337         89337\n",
              "514477    1073       849   44        16  1:29.824         89824\n",
              "514478    1073       849   45        16  1:30.962         90962\n",
              "514479    1073       849   46        16  1:29.995         89995\n",
              "514480    1073       849   47        16  1:30.134         90134\n",
              "514481    1073       849   48        16  1:30.648         90648\n",
              "514482    1073       849   49        16  1:29.349         89349\n",
              "514483    1073       849   50        16  1:29.752         89752"
            ]
          },
          "metadata": {},
          "execution_count": 15
        }
      ]
    },
    {
      "cell_type": "markdown",
      "source": [
        "# **Tabella pit stops**"
      ],
      "metadata": {
        "id": "5S1uLnemYAv5"
      }
    },
    {
      "cell_type": "markdown",
      "source": [
        "# Analisi dei dati"
      ],
      "metadata": {
        "id": "IPfIG6FZYDbu"
      }
    },
    {
      "cell_type": "code",
      "source": [
        "#visualizzazione dei dati\n",
        "print(pit_stops)\n",
        "\n",
        "#visualizza colonne\n",
        "print(pit_stops.columns)\n",
        "\n",
        "#conteggio dei dati\n",
        "pit_stops.count()"
      ],
      "metadata": {
        "colab": {
          "base_uri": "https://localhost:8080/"
        },
        "id": "-2US30SzYF_7",
        "outputId": "4c4e7640-547c-45cd-d705-83ce8891873d"
      },
      "execution_count": null,
      "outputs": [
        {
          "output_type": "stream",
          "name": "stdout",
          "text": [
            "      raceId  driverId  stop  lap      time duration  milliseconds\n",
            "0        841       153     1    1  17:05:23   26.898         26898\n",
            "1        841        30     1    1  17:05:52   25.021         25021\n",
            "2        841        17     1   11  17:20:48   23.426         23426\n",
            "3        841         4     1   12  17:22:34   23.251         23251\n",
            "4        841        13     1   13  17:24:10   23.842         23842\n",
            "...      ...       ...   ...  ...       ...      ...           ...\n",
            "8823    1073       840     2   52  18:22:55   22.661         22661\n",
            "8824    1073       815     3   53  18:23:09   21.385         21385\n",
            "8825    1073       854     2   52  18:23:42   22.070         22070\n",
            "8826    1073       852     2   53  18:24:01   21.909         21909\n",
            "8827    1073       842     2   54  18:25:56   21.920         21920\n",
            "\n",
            "[8828 rows x 7 columns]\n",
            "Index(['raceId', 'driverId', 'stop', 'lap', 'time', 'duration',\n",
            "       'milliseconds'],\n",
            "      dtype='object')\n"
          ]
        },
        {
          "output_type": "execute_result",
          "data": {
            "text/plain": [
              "raceId          8828\n",
              "driverId        8828\n",
              "stop            8828\n",
              "lap             8828\n",
              "time            8828\n",
              "duration        8828\n",
              "milliseconds    8828\n",
              "dtype: int64"
            ]
          },
          "metadata": {},
          "execution_count": 16
        }
      ]
    },
    {
      "cell_type": "markdown",
      "source": [
        "# **Tabella drivers**"
      ],
      "metadata": {
        "id": "tkXTYY5WY9Mp"
      }
    },
    {
      "cell_type": "markdown",
      "source": [
        "# Analisi dei dati"
      ],
      "metadata": {
        "id": "G17khr6mZASF"
      }
    },
    {
      "cell_type": "code",
      "source": [
        "#visualizzazione dei dati\n",
        "print(drivers)\n",
        "\n",
        "#visualizza colonne\n",
        "print(drivers.columns)\n",
        "\n",
        "#conteggio dei dati\n",
        "drivers.count()"
      ],
      "metadata": {
        "colab": {
          "base_uri": "https://localhost:8080/"
        },
        "id": "2g4ZZj99ZED9",
        "outputId": "8acb1919-37bb-4dd4-b02d-8a4acdca9d6b"
      },
      "execution_count": null,
      "outputs": [
        {
          "output_type": "stream",
          "name": "stdout",
          "text": [
            "     driverId  ...                                             url\n",
            "0           1  ...     http://en.wikipedia.org/wiki/Lewis_Hamilton\n",
            "1           2  ...      http://en.wikipedia.org/wiki/Nick_Heidfeld\n",
            "2           3  ...       http://en.wikipedia.org/wiki/Nico_Rosberg\n",
            "3           4  ...    http://en.wikipedia.org/wiki/Fernando_Alonso\n",
            "4           5  ...  http://en.wikipedia.org/wiki/Heikki_Kovalainen\n",
            "..        ...  ...                                             ...\n",
            "849       851  ...        http://en.wikipedia.org/wiki/Jack_Aitken\n",
            "850       852  ...       http://en.wikipedia.org/wiki/Yuki_Tsunoda\n",
            "851       853  ...     http://en.wikipedia.org/wiki/Nikita_Mazepin\n",
            "852       854  ...    http://en.wikipedia.org/wiki/Mick_Schumacher\n",
            "853       855  ...       https://en.wikipedia.org/wiki/Guanyu_Zhou\n",
            "\n",
            "[854 rows x 9 columns]\n",
            "Index(['driverId', 'driverRef', 'number', 'code', 'forename', 'surname', 'dob',\n",
            "       'nationality', 'url'],\n",
            "      dtype='object')\n"
          ]
        },
        {
          "output_type": "execute_result",
          "data": {
            "text/plain": [
              "driverId       854\n",
              "driverRef      854\n",
              "number         854\n",
              "code           854\n",
              "forename       854\n",
              "surname        854\n",
              "dob            854\n",
              "nationality    854\n",
              "url            854\n",
              "dtype: int64"
            ]
          },
          "metadata": {},
          "execution_count": 80
        }
      ]
    },
    {
      "cell_type": "markdown",
      "source": [
        "# **Tabella seasons**"
      ],
      "metadata": {
        "id": "sZgJ7a0Bb5Q_"
      }
    },
    {
      "cell_type": "markdown",
      "source": [
        "# Analisi dei dati"
      ],
      "metadata": {
        "id": "Ev8lQl9-b9C4"
      }
    },
    {
      "cell_type": "code",
      "source": [
        "#visualizzazione dei dati\n",
        "print(seasons)\n",
        "\n",
        "#visualizza colonne\n",
        "print(seasons.columns)\n",
        "\n",
        "#conteggio dei dati\n",
        "seasons.count()"
      ],
      "metadata": {
        "colab": {
          "base_uri": "https://localhost:8080/"
        },
        "id": "kiZl2brocA32",
        "outputId": "3232b650-10a1-45ae-d82a-77f2ecc34fa4"
      },
      "execution_count": null,
      "outputs": [
        {
          "output_type": "stream",
          "name": "stdout",
          "text": [
            "    year                                                url\n",
            "0   2009  https://en.wikipedia.org/wiki/2009_Formula_One...\n",
            "1   2008  https://en.wikipedia.org/wiki/2008_Formula_One...\n",
            "2   2007  https://en.wikipedia.org/wiki/2007_Formula_One...\n",
            "3   2006  https://en.wikipedia.org/wiki/2006_Formula_One...\n",
            "4   2005  https://en.wikipedia.org/wiki/2005_Formula_One...\n",
            "..   ...                                                ...\n",
            "68  2018  https://en.wikipedia.org/wiki/2018_Formula_One...\n",
            "69  2019  https://en.wikipedia.org/wiki/2019_Formula_One...\n",
            "70  2020  https://en.wikipedia.org/wiki/2020_Formula_One...\n",
            "71  2021  https://en.wikipedia.org/wiki/2021_Formula_One...\n",
            "72  2022  https://en.wikipedia.org/wiki/2022_Formula_One...\n",
            "\n",
            "[73 rows x 2 columns]\n",
            "Index(['year', 'url'], dtype='object')\n"
          ]
        },
        {
          "output_type": "execute_result",
          "data": {
            "text/plain": [
              "year    73\n",
              "url     73\n",
              "dtype: int64"
            ]
          },
          "metadata": {},
          "execution_count": 18
        }
      ]
    },
    {
      "cell_type": "markdown",
      "source": [
        "# **Tabella status**"
      ],
      "metadata": {
        "id": "0lixXuKdckL2"
      }
    },
    {
      "cell_type": "markdown",
      "source": [
        "# Analisi dei dati"
      ],
      "metadata": {
        "id": "oOl1kMy7cm6j"
      }
    },
    {
      "cell_type": "code",
      "source": [
        "#visualizzazione dei dati\n",
        "print(status)\n",
        "\n",
        "#visualizza colonne\n",
        "print(status.columns)\n",
        "\n",
        "#conteggio dei dati\n",
        "status.count()"
      ],
      "metadata": {
        "colab": {
          "base_uri": "https://localhost:8080/"
        },
        "id": "MUB8FiJPcr-v",
        "outputId": "db25a9fb-3e8d-46da-a97e-f81e4f675af7"
      },
      "execution_count": null,
      "outputs": [
        {
          "output_type": "stream",
          "name": "stdout",
          "text": [
            "     statusId        status\n",
            "0           1      Finished\n",
            "1           2  Disqualified\n",
            "2           3      Accident\n",
            "3           4     Collision\n",
            "4           5        Engine\n",
            "..        ...           ...\n",
            "132       135    Brake duct\n",
            "133       136          Seat\n",
            "134       137        Damage\n",
            "135       138        Debris\n",
            "136       139       Illness\n",
            "\n",
            "[137 rows x 2 columns]\n",
            "Index(['statusId', 'status'], dtype='object')\n"
          ]
        },
        {
          "output_type": "execute_result",
          "data": {
            "text/plain": [
              "statusId    137\n",
              "status      137\n",
              "dtype: int64"
            ]
          },
          "metadata": {},
          "execution_count": 19
        }
      ]
    }
  ]
}